{
 "cells": [
  {
   "cell_type": "markdown",
   "metadata": {},
   "source": [
    "# Data Importing and Data Cleaning"
   ]
  },
  {
   "cell_type": "markdown",
   "metadata": {},
   "source": [
    "This notebook will mainly cover the steps taken to import and clean the datasets from yelp."
   ]
  },
  {
   "cell_type": "code",
   "execution_count": 1,
   "metadata": {
    "ExecuteTime": {
     "end_time": "2020-10-14T11:08:45.836466Z",
     "start_time": "2020-10-14T11:08:43.592024Z"
    }
   },
   "outputs": [],
   "source": [
    "import json\n",
    "import csv\n",
    "import matplotlib.pyplot as plt\n",
    "import pandas as pd\n",
    "import seaborn as sns\n",
    "from tqdm import tqdm, tqdm_notebook, tnrange\n",
    "\n",
    "# Display Settings\n",
    "\n",
    "pd.set_option('display.max_columns', 50)"
   ]
  },
  {
   "cell_type": "markdown",
   "metadata": {},
   "source": [
    "From the Yelp Dataset, the 3 main json files that we will be importing and analyzing are the `business`, `review` and `user` files."
   ]
  },
  {
   "cell_type": "markdown",
   "metadata": {},
   "source": [
    "### Business File"
   ]
  },
  {
   "cell_type": "code",
   "execution_count": 2,
   "metadata": {
    "ExecuteTime": {
     "end_time": "2020-10-14T11:08:52.050252Z",
     "start_time": "2020-10-14T11:08:45.839003Z"
    }
   },
   "outputs": [
    {
     "data": {
      "text/plain": [
       "150346"
      ]
     },
     "execution_count": 2,
     "metadata": {},
     "output_type": "execute_result"
    }
   ],
   "source": [
    "# Importing Yelp Business JSON File\n",
    "\n",
    "business = []\n",
    "\n",
    "with open(\"/Users/a_appiagyei/Downloads/yelp_dataset/yelp_academic_dataset_business.json\") as f:\n",
    "    for line in f:\n",
    "        business.append(json.loads(line))\n",
    "\n",
    "# Length of rows of Data\n",
    "\n",
    "len(business)  # 150,346 rows of business"
   ]
  },
  {
   "cell_type": "code",
   "execution_count": 6,
   "metadata": {
    "ExecuteTime": {
     "end_time": "2020-10-14T11:08:52.062075Z",
     "start_time": "2020-10-14T11:08:52.055032Z"
    },
    "scrolled": true
   },
   "outputs": [
    {
     "data": {
      "text/plain": [
       "{'business_id': 'UJsufbvfyfONHeWdvAHKjA',\n",
       " 'name': 'Marshalls',\n",
       " 'address': '21705 Village Lakes Sc Dr',\n",
       " 'city': \"Land O' Lakes\",\n",
       " 'state': 'FL',\n",
       " 'postal_code': '34639',\n",
       " 'latitude': 28.1904587953,\n",
       " 'longitude': -82.4573802199,\n",
       " 'stars': 3.5,\n",
       " 'review_count': 6,\n",
       " 'is_open': 1,\n",
       " 'attributes': {'RestaurantsPriceRange2': '2',\n",
       "  'BikeParking': 'True',\n",
       "  'BusinessAcceptsCreditCards': 'True',\n",
       "  'BusinessParking': \"{'garage': False, 'street': False, 'validated': False, 'lot': False, 'valet': False}\"},\n",
       " 'categories': 'Department Stores, Shopping, Fashion',\n",
       " 'hours': {'Monday': '9:30-21:30',\n",
       "  'Tuesday': '9:30-21:30',\n",
       "  'Wednesday': '9:30-21:30',\n",
       "  'Thursday': '9:30-21:30',\n",
       "  'Friday': '9:30-21:30',\n",
       "  'Saturday': '9:30-21:30',\n",
       "  'Sunday': '10:0-20:0'}}"
      ]
     },
     "execution_count": 6,
     "metadata": {},
     "output_type": "execute_result"
    }
   ],
   "source": [
    "# Overview of columns of each entry of business file\n",
    "\n",
    "business[10]"
   ]
  },
  {
   "cell_type": "markdown",
   "metadata": {},
   "source": [
    "Now that we know the column names of this file, we now can proceed to create our dataframe for this file."
   ]
  },
  {
   "cell_type": "code",
   "execution_count": 7,
   "metadata": {
    "ExecuteTime": {
     "end_time": "2020-10-14T11:08:54.196483Z",
     "start_time": "2020-10-14T11:08:52.064847Z"
    }
   },
   "outputs": [
    {
     "name": "stdout",
     "output_type": "stream",
     "text": [
      "(150346, 11)\n"
     ]
    },
    {
     "data": {
      "text/html": [
       "<div>\n",
       "<style scoped>\n",
       "    .dataframe tbody tr th:only-of-type {\n",
       "        vertical-align: middle;\n",
       "    }\n",
       "\n",
       "    .dataframe tbody tr th {\n",
       "        vertical-align: top;\n",
       "    }\n",
       "\n",
       "    .dataframe thead th {\n",
       "        text-align: right;\n",
       "    }\n",
       "</style>\n",
       "<table border=\"1\" class=\"dataframe\">\n",
       "  <thead>\n",
       "    <tr style=\"text-align: right;\">\n",
       "      <th></th>\n",
       "      <th>business_id</th>\n",
       "      <th>name</th>\n",
       "      <th>city</th>\n",
       "      <th>state</th>\n",
       "      <th>stars</th>\n",
       "      <th>review_count</th>\n",
       "      <th>categories</th>\n",
       "      <th>latitude</th>\n",
       "      <th>longitude</th>\n",
       "      <th>is_open</th>\n",
       "      <th>postal_code</th>\n",
       "    </tr>\n",
       "  </thead>\n",
       "  <tbody>\n",
       "    <tr>\n",
       "      <th>0</th>\n",
       "      <td>Pns2l4eNsfO8kk83dixA6A</td>\n",
       "      <td>Abby Rappoport, LAC, CMQ</td>\n",
       "      <td>Santa Barbara</td>\n",
       "      <td>CA</td>\n",
       "      <td>5.0</td>\n",
       "      <td>7</td>\n",
       "      <td>Doctors, Traditional Chinese Medicine, Naturop...</td>\n",
       "      <td>34.426679</td>\n",
       "      <td>-119.711197</td>\n",
       "      <td>0</td>\n",
       "      <td>93101</td>\n",
       "    </tr>\n",
       "    <tr>\n",
       "      <th>1</th>\n",
       "      <td>mpf3x-BjTdTEA3yCZrAYPw</td>\n",
       "      <td>The UPS Store</td>\n",
       "      <td>Affton</td>\n",
       "      <td>MO</td>\n",
       "      <td>3.0</td>\n",
       "      <td>15</td>\n",
       "      <td>Shipping Centers, Local Services, Notaries, Ma...</td>\n",
       "      <td>38.551126</td>\n",
       "      <td>-90.335695</td>\n",
       "      <td>1</td>\n",
       "      <td>63123</td>\n",
       "    </tr>\n",
       "    <tr>\n",
       "      <th>2</th>\n",
       "      <td>tUFrWirKiKi_TAnsVWINQQ</td>\n",
       "      <td>Target</td>\n",
       "      <td>Tucson</td>\n",
       "      <td>AZ</td>\n",
       "      <td>3.5</td>\n",
       "      <td>22</td>\n",
       "      <td>Department Stores, Shopping, Fashion, Home &amp; G...</td>\n",
       "      <td>32.223236</td>\n",
       "      <td>-110.880452</td>\n",
       "      <td>0</td>\n",
       "      <td>85711</td>\n",
       "    </tr>\n",
       "    <tr>\n",
       "      <th>3</th>\n",
       "      <td>MTSW4McQd7CbVtyjqoe9mw</td>\n",
       "      <td>St Honore Pastries</td>\n",
       "      <td>Philadelphia</td>\n",
       "      <td>PA</td>\n",
       "      <td>4.0</td>\n",
       "      <td>80</td>\n",
       "      <td>Restaurants, Food, Bubble Tea, Coffee &amp; Tea, B...</td>\n",
       "      <td>39.955505</td>\n",
       "      <td>-75.155564</td>\n",
       "      <td>1</td>\n",
       "      <td>19107</td>\n",
       "    </tr>\n",
       "    <tr>\n",
       "      <th>4</th>\n",
       "      <td>mWMc6_wTdE0EUBKIGXDVfA</td>\n",
       "      <td>Perkiomen Valley Brewery</td>\n",
       "      <td>Green Lane</td>\n",
       "      <td>PA</td>\n",
       "      <td>4.5</td>\n",
       "      <td>13</td>\n",
       "      <td>Brewpubs, Breweries, Food</td>\n",
       "      <td>40.338183</td>\n",
       "      <td>-75.471659</td>\n",
       "      <td>1</td>\n",
       "      <td>18054</td>\n",
       "    </tr>\n",
       "  </tbody>\n",
       "</table>\n",
       "</div>"
      ],
      "text/plain": [
       "             business_id                       name           city state  \\\n",
       "0  Pns2l4eNsfO8kk83dixA6A  Abby Rappoport, LAC, CMQ  Santa Barbara    CA   \n",
       "1  mpf3x-BjTdTEA3yCZrAYPw             The UPS Store         Affton    MO   \n",
       "2  tUFrWirKiKi_TAnsVWINQQ                    Target         Tucson    AZ   \n",
       "3  MTSW4McQd7CbVtyjqoe9mw        St Honore Pastries   Philadelphia    PA   \n",
       "4  mWMc6_wTdE0EUBKIGXDVfA  Perkiomen Valley Brewery     Green Lane    PA   \n",
       "\n",
       "   stars  review_count                                         categories  \\\n",
       "0    5.0             7  Doctors, Traditional Chinese Medicine, Naturop...   \n",
       "1    3.0            15  Shipping Centers, Local Services, Notaries, Ma...   \n",
       "2    3.5            22  Department Stores, Shopping, Fashion, Home & G...   \n",
       "3    4.0            80  Restaurants, Food, Bubble Tea, Coffee & Tea, B...   \n",
       "4    4.5            13                          Brewpubs, Breweries, Food   \n",
       "\n",
       "    latitude   longitude  is_open postal_code  \n",
       "0  34.426679 -119.711197        0       93101  \n",
       "1  38.551126  -90.335695        1       63123  \n",
       "2  32.223236 -110.880452        0       85711  \n",
       "3  39.955505  -75.155564        1       19107  \n",
       "4  40.338183  -75.471659        1       18054  "
      ]
     },
     "execution_count": 7,
     "metadata": {},
     "output_type": "execute_result"
    }
   ],
   "source": [
    "## Creating Dataframe for business json file\n",
    "\n",
    "# Creating Columns for our Dataframe\n",
    "\n",
    "business_id = []\n",
    "name = []\n",
    "city = []\n",
    "state = []\n",
    "stars = []\n",
    "review_count = []\n",
    "categories = []\n",
    "postal_code = []\n",
    "latitude = []\n",
    "longitude = []\n",
    "pricerange = []\n",
    "is_open = []\n",
    "\n",
    "# Iterating through each row of the json file\n",
    "\n",
    "for entry in range(0, len(business)): \n",
    "        business_id.append(business[entry]['business_id'])\n",
    "        name.append(business[entry]['name'])\n",
    "        city.append(business[entry]['city'])\n",
    "        state.append(business[entry]['state'])\n",
    "        stars.append(business[entry]['stars'])\n",
    "        postal_code.append(business[entry]['postal_code'])\n",
    "        review_count.append(business[entry]['review_count'])\n",
    "        categories.append(business[entry]['categories'])\n",
    "        latitude.append(business[entry]['latitude'])\n",
    "        longitude.append(business[entry]['longitude'])\n",
    "        is_open.append(business[entry]['is_open'])\n",
    "\n",
    "\n",
    "business = {'business_id ':business_id,'name':name,'city':city,'state':state,'stars':stars,'review_count':review_count,\n",
    "        'categories':categories,'latitude':latitude,'longitude':longitude,'is_open':is_open, 'postal_code':postal_code}\n",
    "\n",
    "business_df  = pd.DataFrame(business)\n",
    "\n",
    "# Overview of our Business Dataframe\n",
    "\n",
    "print(business_df.shape) # 150346 rows of Data\n",
    "business_df.head()"
   ]
  },
  {
   "cell_type": "code",
   "execution_count": 8,
   "metadata": {
    "ExecuteTime": {
     "end_time": "2020-10-14T11:08:57.711785Z",
     "start_time": "2020-10-14T11:08:54.200209Z"
    }
   },
   "outputs": [
    {
     "name": "stdout",
     "output_type": "stream",
     "text": [
      "The number of unique business categories is: 668695\n"
     ]
    },
    {
     "data": {
      "text/plain": [
       "Restaurants                  52268\n",
       "Food                         27781\n",
       "Shopping                     24395\n",
       "Home Services                14356\n",
       "Beauty & Spas                14292\n",
       "Nightlife                    12281\n",
       "Health & Medical             11890\n",
       "Local Services               11198\n",
       "Bars                         11065\n",
       "Automotive                   10773\n",
       "Event Planning & Services     9895\n",
       "Sandwiches                    8366\n",
       "American (Traditional)        8139\n",
       "Active Life                   7687\n",
       "Pizza                         7093\n",
       "Coffee & Tea                  6703\n",
       "Fast Food                     6472\n",
       "Breakfast & Brunch            6239\n",
       "American (New)                6097\n",
       "Hotels & Travel               5857\n",
       "Home & Garden                 5799\n",
       "Fashion                       5739\n",
       "Burgers                       5636\n",
       "Arts & Entertainment          5434\n",
       "Auto Repair                   5433\n",
       "Name: categories, dtype: int64"
      ]
     },
     "execution_count": 8,
     "metadata": {},
     "output_type": "execute_result"
    }
   ],
   "source": [
    "# Overview of Business/Restaurant Categories\n",
    "\n",
    "business_categories = business_df.assign(categories = business_df.categories.str.split(', ')).explode('categories')\n",
    "\n",
    "print(str('The number of business categories is:'), len(business_categories))\n",
    "\n",
    "# Most Common Business Categories\n",
    "\n",
    "business_categories.categories.value_counts().head(25)"
   ]
  },
  {
   "cell_type": "markdown",
   "metadata": {},
   "source": [
    "For this Project, we are only focusing on Restaurant and F&B Businesses. As such, we will be restricting the categories that businesses can contain in our filtered dataset. Based on the above count plot, we will be restricting these broad categories to: `Restaurants`, `Fast Food`, `Breakfast & Brunch`, `Cafes`."
   ]
  },
  {
   "cell_type": "code",
   "execution_count": 10,
   "metadata": {
    "ExecuteTime": {
     "end_time": "2020-10-14T11:08:58.705759Z",
     "start_time": "2020-10-14T11:08:57.715225Z"
    }
   },
   "outputs": [
    {
     "data": {
      "text/html": [
       "<div>\n",
       "<style scoped>\n",
       "    .dataframe tbody tr th:only-of-type {\n",
       "        vertical-align: middle;\n",
       "    }\n",
       "\n",
       "    .dataframe tbody tr th {\n",
       "        vertical-align: top;\n",
       "    }\n",
       "\n",
       "    .dataframe thead th {\n",
       "        text-align: right;\n",
       "    }\n",
       "</style>\n",
       "<table border=\"1\" class=\"dataframe\">\n",
       "  <thead>\n",
       "    <tr style=\"text-align: right;\">\n",
       "      <th></th>\n",
       "      <th>business_id</th>\n",
       "      <th>name</th>\n",
       "      <th>city</th>\n",
       "      <th>state</th>\n",
       "      <th>stars</th>\n",
       "      <th>review_count</th>\n",
       "      <th>categories</th>\n",
       "      <th>latitude</th>\n",
       "      <th>longitude</th>\n",
       "      <th>is_open</th>\n",
       "      <th>postal_code</th>\n",
       "    </tr>\n",
       "  </thead>\n",
       "  <tbody>\n",
       "    <tr>\n",
       "      <th>3</th>\n",
       "      <td>MTSW4McQd7CbVtyjqoe9mw</td>\n",
       "      <td>St Honore Pastries</td>\n",
       "      <td>Philadelphia</td>\n",
       "      <td>PA</td>\n",
       "      <td>4.0</td>\n",
       "      <td>80</td>\n",
       "      <td>Restaurants, Food, Bubble Tea, Coffee &amp; Tea, B...</td>\n",
       "      <td>39.955505</td>\n",
       "      <td>-75.155564</td>\n",
       "      <td>1</td>\n",
       "      <td>19107</td>\n",
       "    </tr>\n",
       "    <tr>\n",
       "      <th>5</th>\n",
       "      <td>CF33F8-E6oudUQ46HnavjQ</td>\n",
       "      <td>Sonic Drive-In</td>\n",
       "      <td>Ashland City</td>\n",
       "      <td>TN</td>\n",
       "      <td>2.0</td>\n",
       "      <td>6</td>\n",
       "      <td>Burgers, Fast Food, Sandwiches, Food, Ice Crea...</td>\n",
       "      <td>36.269593</td>\n",
       "      <td>-87.058943</td>\n",
       "      <td>1</td>\n",
       "      <td>37015</td>\n",
       "    </tr>\n",
       "    <tr>\n",
       "      <th>9</th>\n",
       "      <td>bBDDEgkFA1Otx9Lfe7BZUQ</td>\n",
       "      <td>Sonic Drive-In</td>\n",
       "      <td>Nashville</td>\n",
       "      <td>TN</td>\n",
       "      <td>1.5</td>\n",
       "      <td>10</td>\n",
       "      <td>Ice Cream &amp; Frozen Yogurt, Fast Food, Burgers,...</td>\n",
       "      <td>36.208102</td>\n",
       "      <td>-86.768170</td>\n",
       "      <td>1</td>\n",
       "      <td>37207</td>\n",
       "    </tr>\n",
       "    <tr>\n",
       "      <th>11</th>\n",
       "      <td>eEOYSgkmpB90uNA7lDOMRA</td>\n",
       "      <td>Vietnamese Food Truck</td>\n",
       "      <td>Tampa Bay</td>\n",
       "      <td>FL</td>\n",
       "      <td>4.0</td>\n",
       "      <td>10</td>\n",
       "      <td>Vietnamese, Food, Restaurants, Food Trucks</td>\n",
       "      <td>27.955269</td>\n",
       "      <td>-82.456320</td>\n",
       "      <td>1</td>\n",
       "      <td>33602</td>\n",
       "    </tr>\n",
       "    <tr>\n",
       "      <th>12</th>\n",
       "      <td>il_Ro8jwPlHresjw9EGmBg</td>\n",
       "      <td>Denny's</td>\n",
       "      <td>Indianapolis</td>\n",
       "      <td>IN</td>\n",
       "      <td>2.5</td>\n",
       "      <td>28</td>\n",
       "      <td>American (Traditional), Restaurants, Diners, B...</td>\n",
       "      <td>39.637133</td>\n",
       "      <td>-86.127217</td>\n",
       "      <td>1</td>\n",
       "      <td>46227</td>\n",
       "    </tr>\n",
       "  </tbody>\n",
       "</table>\n",
       "</div>"
      ],
      "text/plain": [
       "              business_id                    name          city state  stars  \\\n",
       "3   MTSW4McQd7CbVtyjqoe9mw     St Honore Pastries  Philadelphia    PA    4.0   \n",
       "5   CF33F8-E6oudUQ46HnavjQ         Sonic Drive-In  Ashland City    TN    2.0   \n",
       "9   bBDDEgkFA1Otx9Lfe7BZUQ         Sonic Drive-In     Nashville    TN    1.5   \n",
       "11  eEOYSgkmpB90uNA7lDOMRA  Vietnamese Food Truck     Tampa Bay    FL    4.0   \n",
       "12  il_Ro8jwPlHresjw9EGmBg                Denny's  Indianapolis    IN    2.5   \n",
       "\n",
       "    review_count                                         categories  \\\n",
       "3             80  Restaurants, Food, Bubble Tea, Coffee & Tea, B...   \n",
       "5              6  Burgers, Fast Food, Sandwiches, Food, Ice Crea...   \n",
       "9             10  Ice Cream & Frozen Yogurt, Fast Food, Burgers,...   \n",
       "11            10         Vietnamese, Food, Restaurants, Food Trucks   \n",
       "12            28  American (Traditional), Restaurants, Diners, B...   \n",
       "\n",
       "     latitude  longitude  is_open postal_code  \n",
       "3   39.955505 -75.155564        1       19107  \n",
       "5   36.269593 -87.058943        1       37015  \n",
       "9   36.208102 -86.768170        1       37207  \n",
       "11  27.955269 -82.456320        1       33602  \n",
       "12  39.637133 -86.127217        1       46227  "
      ]
     },
     "execution_count": 10,
     "metadata": {},
     "output_type": "execute_result"
    }
   ],
   "source": [
    "# Filtering for Restaurant Food Businesses\n",
    "\n",
    "business_food = business_df[business_df['categories'].str.contains('Restaurants|Fast Food|Breakfast & Brunch|Cafes',\n",
    "                case=False, na=False)]\n",
    "\n",
    "# Filtering only for Restaurants that are still open for business, open = 1, closed = 0\n",
    "\n",
    "business_food = business_food[business_food['is_open']==1]\n",
    "business_food.head()"
   ]
  },
  {
   "cell_type": "code",
   "execution_count": 11,
   "metadata": {
    "ExecuteTime": {
     "end_time": "2020-10-14T11:08:58.719743Z",
     "start_time": "2020-10-14T11:08:58.710535Z"
    }
   },
   "outputs": [
    {
     "data": {
      "text/plain": [
       "(35026, 11)"
      ]
     },
     "execution_count": 11,
     "metadata": {},
     "output_type": "execute_result"
    }
   ],
   "source": [
    "# Checking how many rows of data we have left: 35,026 rows of Data (Restaurant/Food Businesses)\n",
    "\n",
    "business_food.shape"
   ]
  },
  {
   "cell_type": "markdown",
   "metadata": {},
   "source": [
    "### Deciding which City to Focus on"
   ]
  },
  {
   "cell_type": "code",
   "execution_count": 13,
   "metadata": {
    "ExecuteTime": {
     "end_time": "2020-10-14T11:08:58.757554Z",
     "start_time": "2020-10-14T11:08:58.726774Z"
    }
   },
   "outputs": [
    {
     "data": {
      "text/plain": [
       "PA    8078\n",
       "FL    5925\n",
       "TN    3033\n",
       "IN    2838\n",
       "MO    2726\n",
       "NJ    2416\n",
       "LA    2347\n",
       "AZ    1805\n",
       "AB    1738\n",
       "NV    1076\n",
       "Name: state, dtype: int64"
      ]
     },
     "execution_count": 13,
     "metadata": {},
     "output_type": "execute_result"
    }
   ],
   "source": [
    "# Top States that have the most number of Restaurant Businesses in this dataset\n",
    "\n",
    "top_states = business_food['state'].value_counts().head(10)\n",
    "top_states"
   ]
  },
  {
   "cell_type": "markdown",
   "metadata": {},
   "source": [
    "We decided to focus on Arizona State **(AZ)** in USA "
   ]
  },
  {
   "cell_type": "code",
   "execution_count": 12,
   "metadata": {
    "ExecuteTime": {
     "end_time": "2020-10-14T11:08:58.824928Z",
     "start_time": "2020-10-14T11:08:58.763118Z"
    }
   },
   "outputs": [
    {
     "data": {
      "text/plain": [
       "Philadelphia        3529\n",
       "Tampa               1966\n",
       "Indianapolis        1905\n",
       "Nashville           1683\n",
       "Tucson              1641\n",
       "Edmonton            1557\n",
       "New Orleans         1393\n",
       "Saint Louis          959\n",
       "Reno                 797\n",
       "Boise                603\n",
       "Santa Barbara        448\n",
       "Wilmington           437\n",
       "Clearwater           436\n",
       "St. Louis            410\n",
       "Metairie             350\n",
       "Franklin             302\n",
       "Saint Petersburg     300\n",
       "St. Petersburg       253\n",
       "Sparks               240\n",
       "Meridian             236\n",
       "Brandon              227\n",
       "Largo                206\n",
       "Cherry Hill          193\n",
       "West Chester         186\n",
       "Carmel               176\n",
       "New Port Richey      166\n",
       "Riverview            159\n",
       "Kenner               156\n",
       "Greenwood            150\n",
       "Trenton              145\n",
       "Fishers              140\n",
       "Lutz                 135\n",
       "Smyrna               131\n",
       "Dunedin              130\n",
       "Palm Harbor          129\n",
       "Brentwood            129\n",
       "Hendersonville       127\n",
       "Florissant           127\n",
       "Pinellas Park        123\n",
       "Wesley Chapel        122\n",
       "Name: city, dtype: int64"
      ]
     },
     "execution_count": 12,
     "metadata": {},
     "output_type": "execute_result"
    }
   ],
   "source": [
    "# Top Cities that have the most number of Restaurant Businesses in this dataset\n",
    "\n",
    "top_cities = business_food['city'].value_counts().head(40)\n",
    "top_cities"
   ]
  },
  {
   "cell_type": "markdown",
   "metadata": {},
   "source": [
    "Philadelphia has the most number of Restaurant Businesses in this dataset."
   ]
  },
  {
   "cell_type": "markdown",
   "metadata": {},
   "source": [
    "For this  Project, we are focusing on **Tucson,Arizona**."
   ]
  },
  {
   "cell_type": "code",
   "execution_count": 14,
   "metadata": {
    "ExecuteTime": {
     "end_time": "2020-10-14T11:08:58.859314Z",
     "start_time": "2020-10-14T11:08:58.827577Z"
    }
   },
   "outputs": [
    {
     "data": {
      "text/plain": [
       "Tucson              1641\n",
       "Oro Valley            62\n",
       "Marana                33\n",
       "Green Valley          24\n",
       "Sahuarita             13\n",
       "Vail                  11\n",
       "Catalina               7\n",
       "Mount Lemmon           3\n",
       "Tuscon                 3\n",
       "TUCSON                 2\n",
       "South Tucson           2\n",
       "Valencia West          1\n",
       "Picture Rocks          1\n",
       "Corona De Tucson       1\n",
       "Corona de Tucson       1\n",
       "Name: city, dtype: int64"
      ]
     },
     "execution_count": 14,
     "metadata": {},
     "output_type": "execute_result"
    }
   ],
   "source": [
    "# Keeping the arizona\n",
    "\n",
    "states_to_keep = ['AZ']\n",
    "business_food = business_food[business_food.state.isin(states_to_keep)]\n",
    "\n",
    "# Overview of Cities in Arizona \n",
    "business_food['city'].value_counts().head(20)"
   ]
  },
  {
   "cell_type": "code",
   "execution_count": 15,
   "metadata": {
    "ExecuteTime": {
     "end_time": "2020-10-14T11:08:58.881475Z",
     "start_time": "2020-10-14T11:08:58.863697Z"
    }
   },
   "outputs": [
    {
     "data": {
      "text/plain": [
       "(1805, 11)"
      ]
     },
     "execution_count": 15,
     "metadata": {},
     "output_type": "execute_result"
    }
   ],
   "source": [
    "# Checking how many rows of data we have left: 1805 rows of Data (Restaurant/Food Businesses)\n",
    "\n",
    "business_food.shape"
   ]
  },
  {
   "cell_type": "code",
   "execution_count": 16,
   "metadata": {
    "ExecuteTime": {
     "end_time": "2020-10-14T11:08:58.917100Z",
     "start_time": "2020-10-14T11:08:58.890646Z"
    }
   },
   "outputs": [
    {
     "data": {
      "text/plain": [
       "business_id     0\n",
       "name            0\n",
       "city            0\n",
       "state           0\n",
       "stars           0\n",
       "review_count    0\n",
       "categories      0\n",
       "latitude        0\n",
       "longitude       0\n",
       "is_open         0\n",
       "postal_code     0\n",
       "dtype: int64"
      ]
     },
     "execution_count": 16,
     "metadata": {},
     "output_type": "execute_result"
    }
   ],
   "source": [
    "# Checking for null values\n",
    "\n",
    "business_food.isnull().sum()"
   ]
  },
  {
   "cell_type": "markdown",
   "metadata": {},
   "source": [
    "For our initial `business_food` dataset, we have **1800 rows of business data**."
   ]
  },
  {
   "cell_type": "markdown",
   "metadata": {},
   "source": [
    "### Review File"
   ]
  },
  {
   "cell_type": "code",
   "execution_count": 17,
   "metadata": {
    "ExecuteTime": {
     "end_time": "2020-10-14T11:11:17.543978Z",
     "start_time": "2020-10-14T11:08:58.929255Z"
    }
   },
   "outputs": [
    {
     "data": {
      "text/plain": [
       "6990280"
      ]
     },
     "execution_count": 17,
     "metadata": {},
     "output_type": "execute_result"
    }
   ],
   "source": [
    "# Importing Review JSON File\n",
    "\n",
    "reviews = []\n",
    "\n",
    "with open('/Users/a_appiagyei/Downloads/yelp_dataset/yelp_academic_dataset_review.json') as f:\n",
    "    for line in f:\n",
    "        reviews.append(json.loads(line))\n",
    "\n",
    "# Length of rows of Data        \n",
    "\n",
    "len(reviews)  # 6,990,280 reviews"
   ]
  },
  {
   "cell_type": "code",
   "execution_count": 19,
   "metadata": {
    "ExecuteTime": {
     "end_time": "2020-10-14T11:11:17.638579Z",
     "start_time": "2020-10-14T11:11:17.585700Z"
    }
   },
   "outputs": [
    {
     "data": {
      "text/plain": [
       "{'review_id': 'AqPFMleE6RsU23_auESxiA',\n",
       " 'user_id': '_7bHUi9Uuf5__HHc_Q8guQ',\n",
       " 'business_id': 'kxX2SOes4o-D3ZQBkiMRfA',\n",
       " 'stars': 5.0,\n",
       " 'useful': 1,\n",
       " 'funny': 0,\n",
       " 'cool': 1,\n",
       " 'text': \"Wow!  Yummy, different,  delicious.   Our favorite is the lamb curry and korma.  With 10 different kinds of naan!!!  Don't let the outside deter you (because we almost changed our minds)...go in and try something new!   You'll be glad you did!\",\n",
       " 'date': '2015-01-04 00:01:03'}"
      ]
     },
     "execution_count": 19,
     "metadata": {},
     "output_type": "execute_result"
    }
   ],
   "source": [
    "# Overview of columns of each entry of the Review file\n",
    "\n",
    "reviews[3]"
   ]
  },
  {
   "cell_type": "markdown",
   "metadata": {},
   "source": [
    "Now that we know the column names of this file, we now can proceed to create our dataframe for this file."
   ]
  },
  {
   "cell_type": "code",
   "execution_count": 20,
   "metadata": {
    "ExecuteTime": {
     "end_time": "2020-10-14T11:27:44.305174Z",
     "start_time": "2020-10-14T11:11:17.663402Z"
    }
   },
   "outputs": [
    {
     "name": "stdout",
     "output_type": "stream",
     "text": [
      "(6990280, 9)\n"
     ]
    },
    {
     "data": {
      "text/html": [
       "<div>\n",
       "<style scoped>\n",
       "    .dataframe tbody tr th:only-of-type {\n",
       "        vertical-align: middle;\n",
       "    }\n",
       "\n",
       "    .dataframe tbody tr th {\n",
       "        vertical-align: top;\n",
       "    }\n",
       "\n",
       "    .dataframe thead th {\n",
       "        text-align: right;\n",
       "    }\n",
       "</style>\n",
       "<table border=\"1\" class=\"dataframe\">\n",
       "  <thead>\n",
       "    <tr style=\"text-align: right;\">\n",
       "      <th></th>\n",
       "      <th>review_id</th>\n",
       "      <th>business_id</th>\n",
       "      <th>user_id</th>\n",
       "      <th>stars</th>\n",
       "      <th>useful</th>\n",
       "      <th>funny</th>\n",
       "      <th>cool</th>\n",
       "      <th>text</th>\n",
       "      <th>date</th>\n",
       "    </tr>\n",
       "  </thead>\n",
       "  <tbody>\n",
       "    <tr>\n",
       "      <th>0</th>\n",
       "      <td>KU_O5udG6zpxOg-VcAEodg</td>\n",
       "      <td>XQfwVwDr-v0ZS3_CbbE5Xw</td>\n",
       "      <td>mh_-eMZ6K5RLWhZyISBhwA</td>\n",
       "      <td>3.0</td>\n",
       "      <td>0</td>\n",
       "      <td>0</td>\n",
       "      <td>0</td>\n",
       "      <td>If you decide to eat here, just be aware it is...</td>\n",
       "      <td>2018-07-07 22:09:11</td>\n",
       "    </tr>\n",
       "    <tr>\n",
       "      <th>1</th>\n",
       "      <td>BiTunyQ73aT9WBnpR9DZGw</td>\n",
       "      <td>7ATYjTIgM3jUlt4UM3IypQ</td>\n",
       "      <td>OyoGAe7OKpv6SyGZT5g77Q</td>\n",
       "      <td>5.0</td>\n",
       "      <td>1</td>\n",
       "      <td>0</td>\n",
       "      <td>1</td>\n",
       "      <td>I've taken a lot of spin classes over the year...</td>\n",
       "      <td>2012-01-03 15:28:18</td>\n",
       "    </tr>\n",
       "    <tr>\n",
       "      <th>2</th>\n",
       "      <td>saUsX_uimxRlCVr67Z4Jig</td>\n",
       "      <td>YjUWPpI6HXG530lwP-fb2A</td>\n",
       "      <td>8g_iMtfSiwikVnbP2etR0A</td>\n",
       "      <td>3.0</td>\n",
       "      <td>0</td>\n",
       "      <td>0</td>\n",
       "      <td>0</td>\n",
       "      <td>Family diner. Had the buffet. Eclectic assortm...</td>\n",
       "      <td>2014-02-05 20:30:30</td>\n",
       "    </tr>\n",
       "    <tr>\n",
       "      <th>3</th>\n",
       "      <td>AqPFMleE6RsU23_auESxiA</td>\n",
       "      <td>kxX2SOes4o-D3ZQBkiMRfA</td>\n",
       "      <td>_7bHUi9Uuf5__HHc_Q8guQ</td>\n",
       "      <td>5.0</td>\n",
       "      <td>1</td>\n",
       "      <td>0</td>\n",
       "      <td>1</td>\n",
       "      <td>Wow!  Yummy, different,  delicious.   Our favo...</td>\n",
       "      <td>2015-01-04 00:01:03</td>\n",
       "    </tr>\n",
       "    <tr>\n",
       "      <th>4</th>\n",
       "      <td>Sx8TMOWLNuJBWer-0pcmoA</td>\n",
       "      <td>e4Vwtrqf-wpJfwesgvdgxQ</td>\n",
       "      <td>bcjbaE6dDog4jkNY91ncLQ</td>\n",
       "      <td>4.0</td>\n",
       "      <td>1</td>\n",
       "      <td>0</td>\n",
       "      <td>1</td>\n",
       "      <td>Cute interior and owner (?) gave us tour of up...</td>\n",
       "      <td>2017-01-14 20:54:15</td>\n",
       "    </tr>\n",
       "  </tbody>\n",
       "</table>\n",
       "</div>"
      ],
      "text/plain": [
       "                review_id             business_id                 user_id  \\\n",
       "0  KU_O5udG6zpxOg-VcAEodg  XQfwVwDr-v0ZS3_CbbE5Xw  mh_-eMZ6K5RLWhZyISBhwA   \n",
       "1  BiTunyQ73aT9WBnpR9DZGw  7ATYjTIgM3jUlt4UM3IypQ  OyoGAe7OKpv6SyGZT5g77Q   \n",
       "2  saUsX_uimxRlCVr67Z4Jig  YjUWPpI6HXG530lwP-fb2A  8g_iMtfSiwikVnbP2etR0A   \n",
       "3  AqPFMleE6RsU23_auESxiA  kxX2SOes4o-D3ZQBkiMRfA  _7bHUi9Uuf5__HHc_Q8guQ   \n",
       "4  Sx8TMOWLNuJBWer-0pcmoA  e4Vwtrqf-wpJfwesgvdgxQ  bcjbaE6dDog4jkNY91ncLQ   \n",
       "\n",
       "   stars  useful  funny  cool  \\\n",
       "0    3.0       0      0     0   \n",
       "1    5.0       1      0     1   \n",
       "2    3.0       0      0     0   \n",
       "3    5.0       1      0     1   \n",
       "4    4.0       1      0     1   \n",
       "\n",
       "                                                text                 date  \n",
       "0  If you decide to eat here, just be aware it is...  2018-07-07 22:09:11  \n",
       "1  I've taken a lot of spin classes over the year...  2012-01-03 15:28:18  \n",
       "2  Family diner. Had the buffet. Eclectic assortm...  2014-02-05 20:30:30  \n",
       "3  Wow!  Yummy, different,  delicious.   Our favo...  2015-01-04 00:01:03  \n",
       "4  Cute interior and owner (?) gave us tour of up...  2017-01-14 20:54:15  "
      ]
     },
     "execution_count": 20,
     "metadata": {},
     "output_type": "execute_result"
    }
   ],
   "source": [
    "## Creating Dataframe for review json file\n",
    "\n",
    "# Creating Columns for Dataframe\n",
    "\n",
    "reviewid = []\n",
    "businessid= []\n",
    "userid = []\n",
    "stars = []\n",
    "useful = []\n",
    "funny = []\n",
    "cool = []\n",
    "text = []\n",
    "date = []\n",
    "\n",
    "# Iterating through each row of the json file\n",
    "\n",
    "for entry in range(0, len(reviews)):     \n",
    "    reviewid.append(reviews[entry]['review_id'])\n",
    "    businessid.append(reviews[entry]['business_id'])\n",
    "    userid.append(reviews[entry]['user_id'])\n",
    "    stars.append(reviews[entry]['stars'])\n",
    "    text.append(reviews[entry]['text'])\n",
    "    date.append(reviews[entry]['date'])\n",
    "    useful.append(reviews[entry]['useful'])\n",
    "    funny.append(reviews[entry]['funny'])\n",
    "    cool.append(reviews[entry]['cool'])\n",
    "    \n",
    "reviews = {'review_id':reviewid,'business_id':businessid,'user_id':userid,'stars':stars,'useful':useful,'funny':funny,\n",
    "           'cool':cool,'text':text,'date':date}\n",
    "\n",
    "reviews_df  = pd.DataFrame(reviews)\n",
    "\n",
    "# Overview of our Review Dataframe\n",
    "\n",
    "print(reviews_df.shape)\n",
    "reviews_df.head()"
   ]
  },
  {
   "cell_type": "code",
   "execution_count": 21,
   "metadata": {
    "ExecuteTime": {
     "end_time": "2020-10-14T11:29:59.464243Z",
     "start_time": "2020-10-14T11:27:44.327168Z"
    }
   },
   "outputs": [
    {
     "data": {
      "text/html": [
       "<div>\n",
       "<style scoped>\n",
       "    .dataframe tbody tr th:only-of-type {\n",
       "        vertical-align: middle;\n",
       "    }\n",
       "\n",
       "    .dataframe tbody tr th {\n",
       "        vertical-align: top;\n",
       "    }\n",
       "\n",
       "    .dataframe thead th {\n",
       "        text-align: right;\n",
       "    }\n",
       "</style>\n",
       "<table border=\"1\" class=\"dataframe\">\n",
       "  <thead>\n",
       "    <tr style=\"text-align: right;\">\n",
       "      <th></th>\n",
       "      <th>review_id</th>\n",
       "      <th>business_id</th>\n",
       "      <th>user_id</th>\n",
       "      <th>stars</th>\n",
       "      <th>useful</th>\n",
       "      <th>funny</th>\n",
       "      <th>cool</th>\n",
       "      <th>text</th>\n",
       "      <th>date</th>\n",
       "      <th>year</th>\n",
       "      <th>month</th>\n",
       "      <th>time</th>\n",
       "    </tr>\n",
       "  </thead>\n",
       "  <tbody>\n",
       "    <tr>\n",
       "      <th>0</th>\n",
       "      <td>KU_O5udG6zpxOg-VcAEodg</td>\n",
       "      <td>XQfwVwDr-v0ZS3_CbbE5Xw</td>\n",
       "      <td>mh_-eMZ6K5RLWhZyISBhwA</td>\n",
       "      <td>3.0</td>\n",
       "      <td>0</td>\n",
       "      <td>0</td>\n",
       "      <td>0</td>\n",
       "      <td>If you decide to eat here, just be aware it is...</td>\n",
       "      <td>2018-07-07 22:09:11</td>\n",
       "      <td>2018</td>\n",
       "      <td>07</td>\n",
       "      <td>22:09:11</td>\n",
       "    </tr>\n",
       "    <tr>\n",
       "      <th>1</th>\n",
       "      <td>BiTunyQ73aT9WBnpR9DZGw</td>\n",
       "      <td>7ATYjTIgM3jUlt4UM3IypQ</td>\n",
       "      <td>OyoGAe7OKpv6SyGZT5g77Q</td>\n",
       "      <td>5.0</td>\n",
       "      <td>1</td>\n",
       "      <td>0</td>\n",
       "      <td>1</td>\n",
       "      <td>I've taken a lot of spin classes over the year...</td>\n",
       "      <td>2012-01-03 15:28:18</td>\n",
       "      <td>2012</td>\n",
       "      <td>01</td>\n",
       "      <td>15:28:18</td>\n",
       "    </tr>\n",
       "    <tr>\n",
       "      <th>2</th>\n",
       "      <td>saUsX_uimxRlCVr67Z4Jig</td>\n",
       "      <td>YjUWPpI6HXG530lwP-fb2A</td>\n",
       "      <td>8g_iMtfSiwikVnbP2etR0A</td>\n",
       "      <td>3.0</td>\n",
       "      <td>0</td>\n",
       "      <td>0</td>\n",
       "      <td>0</td>\n",
       "      <td>Family diner. Had the buffet. Eclectic assortm...</td>\n",
       "      <td>2014-02-05 20:30:30</td>\n",
       "      <td>2014</td>\n",
       "      <td>02</td>\n",
       "      <td>20:30:30</td>\n",
       "    </tr>\n",
       "    <tr>\n",
       "      <th>3</th>\n",
       "      <td>AqPFMleE6RsU23_auESxiA</td>\n",
       "      <td>kxX2SOes4o-D3ZQBkiMRfA</td>\n",
       "      <td>_7bHUi9Uuf5__HHc_Q8guQ</td>\n",
       "      <td>5.0</td>\n",
       "      <td>1</td>\n",
       "      <td>0</td>\n",
       "      <td>1</td>\n",
       "      <td>Wow!  Yummy, different,  delicious.   Our favo...</td>\n",
       "      <td>2015-01-04 00:01:03</td>\n",
       "      <td>2015</td>\n",
       "      <td>01</td>\n",
       "      <td>00:01:03</td>\n",
       "    </tr>\n",
       "    <tr>\n",
       "      <th>4</th>\n",
       "      <td>Sx8TMOWLNuJBWer-0pcmoA</td>\n",
       "      <td>e4Vwtrqf-wpJfwesgvdgxQ</td>\n",
       "      <td>bcjbaE6dDog4jkNY91ncLQ</td>\n",
       "      <td>4.0</td>\n",
       "      <td>1</td>\n",
       "      <td>0</td>\n",
       "      <td>1</td>\n",
       "      <td>Cute interior and owner (?) gave us tour of up...</td>\n",
       "      <td>2017-01-14 20:54:15</td>\n",
       "      <td>2017</td>\n",
       "      <td>01</td>\n",
       "      <td>20:54:15</td>\n",
       "    </tr>\n",
       "  </tbody>\n",
       "</table>\n",
       "</div>"
      ],
      "text/plain": [
       "                review_id             business_id                 user_id  \\\n",
       "0  KU_O5udG6zpxOg-VcAEodg  XQfwVwDr-v0ZS3_CbbE5Xw  mh_-eMZ6K5RLWhZyISBhwA   \n",
       "1  BiTunyQ73aT9WBnpR9DZGw  7ATYjTIgM3jUlt4UM3IypQ  OyoGAe7OKpv6SyGZT5g77Q   \n",
       "2  saUsX_uimxRlCVr67Z4Jig  YjUWPpI6HXG530lwP-fb2A  8g_iMtfSiwikVnbP2etR0A   \n",
       "3  AqPFMleE6RsU23_auESxiA  kxX2SOes4o-D3ZQBkiMRfA  _7bHUi9Uuf5__HHc_Q8guQ   \n",
       "4  Sx8TMOWLNuJBWer-0pcmoA  e4Vwtrqf-wpJfwesgvdgxQ  bcjbaE6dDog4jkNY91ncLQ   \n",
       "\n",
       "   stars  useful  funny  cool  \\\n",
       "0    3.0       0      0     0   \n",
       "1    5.0       1      0     1   \n",
       "2    3.0       0      0     0   \n",
       "3    5.0       1      0     1   \n",
       "4    4.0       1      0     1   \n",
       "\n",
       "                                                text                 date  \\\n",
       "0  If you decide to eat here, just be aware it is...  2018-07-07 22:09:11   \n",
       "1  I've taken a lot of spin classes over the year...  2012-01-03 15:28:18   \n",
       "2  Family diner. Had the buffet. Eclectic assortm...  2014-02-05 20:30:30   \n",
       "3  Wow!  Yummy, different,  delicious.   Our favo...  2015-01-04 00:01:03   \n",
       "4  Cute interior and owner (?) gave us tour of up...  2017-01-14 20:54:15   \n",
       "\n",
       "   year month      time  \n",
       "0  2018    07  22:09:11  \n",
       "1  2012    01  15:28:18  \n",
       "2  2014    02  20:30:30  \n",
       "3  2015    01  00:01:03  \n",
       "4  2017    01  20:54:15  "
      ]
     },
     "execution_count": 21,
     "metadata": {},
     "output_type": "execute_result"
    }
   ],
   "source": [
    "# Splitting Date Column into Year, Month and Time Columns\n",
    "\n",
    "def create_yr(x): \n",
    "    return x.split('-')[0] \n",
    "\n",
    "def create_mth(x): \n",
    "    return x.split('-')[1] \n",
    "\n",
    "def create_time(x):\n",
    "    return x.split(' ')[1]\n",
    "\n",
    "reviews_df['year'] = reviews_df.date.apply(create_yr)\n",
    "reviews_df['month'] = reviews_df.date.apply(create_mth)\n",
    "reviews_df['time'] = reviews_df.date.apply(create_time)\n",
    "\n",
    "# Overview of new df with 3 new columns\n",
    "\n",
    "reviews_df.head()"
   ]
  },
  {
   "cell_type": "code",
   "execution_count": 22,
   "metadata": {
    "ExecuteTime": {
     "end_time": "2020-10-14T11:29:59.485284Z",
     "start_time": "2020-10-14T11:29:59.474767Z"
    }
   },
   "outputs": [
    {
     "data": {
      "text/plain": [
       "(6990280, 12)"
      ]
     },
     "execution_count": 22,
     "metadata": {},
     "output_type": "execute_result"
    }
   ],
   "source": [
    "# Checking how many rows of data we have\n",
    "\n",
    "reviews_df.shape"
   ]
  },
  {
   "cell_type": "markdown",
   "metadata": {},
   "source": [
    "### Filtered Reviews Dataset in Arizona"
   ]
  },
  {
   "cell_type": "code",
   "execution_count": 23,
   "metadata": {
    "ExecuteTime": {
     "end_time": "2020-10-14T11:37:20.777243Z",
     "start_time": "2020-10-14T11:29:59.489972Z"
    }
   },
   "outputs": [
    {
     "name": "stdout",
     "output_type": "stream",
     "text": [
      "(216544, 11)\n"
     ]
    },
    {
     "data": {
      "text/html": [
       "<div>\n",
       "<style scoped>\n",
       "    .dataframe tbody tr th:only-of-type {\n",
       "        vertical-align: middle;\n",
       "    }\n",
       "\n",
       "    .dataframe tbody tr th {\n",
       "        vertical-align: top;\n",
       "    }\n",
       "\n",
       "    .dataframe thead th {\n",
       "        text-align: right;\n",
       "    }\n",
       "</style>\n",
       "<table border=\"1\" class=\"dataframe\">\n",
       "  <thead>\n",
       "    <tr style=\"text-align: right;\">\n",
       "      <th></th>\n",
       "      <th>business_id</th>\n",
       "      <th>user_id</th>\n",
       "      <th>stars</th>\n",
       "      <th>useful</th>\n",
       "      <th>funny</th>\n",
       "      <th>cool</th>\n",
       "      <th>text</th>\n",
       "      <th>date</th>\n",
       "      <th>year</th>\n",
       "      <th>month</th>\n",
       "      <th>time</th>\n",
       "    </tr>\n",
       "  </thead>\n",
       "  <tbody>\n",
       "    <tr>\n",
       "      <th>0</th>\n",
       "      <td>YjUWPpI6HXG530lwP-fb2A</td>\n",
       "      <td>8g_iMtfSiwikVnbP2etR0A</td>\n",
       "      <td>3.0</td>\n",
       "      <td>0</td>\n",
       "      <td>0</td>\n",
       "      <td>0</td>\n",
       "      <td>Family diner. Had the buffet. Eclectic assortm...</td>\n",
       "      <td>2014-02-05 20:30:30</td>\n",
       "      <td>2014</td>\n",
       "      <td>02</td>\n",
       "      <td>20:30:30</td>\n",
       "    </tr>\n",
       "    <tr>\n",
       "      <th>1</th>\n",
       "      <td>otQS34_MymijPTdNBoBdCw</td>\n",
       "      <td>4Uh27DgGzsp6PqrH913giQ</td>\n",
       "      <td>4.0</td>\n",
       "      <td>0</td>\n",
       "      <td>2</td>\n",
       "      <td>0</td>\n",
       "      <td>The bun makes the Sonoran Dog. It's like a snu...</td>\n",
       "      <td>2011-10-27 17:12:05</td>\n",
       "      <td>2011</td>\n",
       "      <td>10</td>\n",
       "      <td>17:12:05</td>\n",
       "    </tr>\n",
       "    <tr>\n",
       "      <th>2</th>\n",
       "      <td>5Ce3lZksYVkCbrihqylVHQ</td>\n",
       "      <td>yZdAhQ_KmKuCZmbBy9YDQg</td>\n",
       "      <td>5.0</td>\n",
       "      <td>0</td>\n",
       "      <td>0</td>\n",
       "      <td>0</td>\n",
       "      <td>I just started going to Sushi Nara this month ...</td>\n",
       "      <td>2014-07-25 17:56:26</td>\n",
       "      <td>2014</td>\n",
       "      <td>07</td>\n",
       "      <td>17:56:26</td>\n",
       "    </tr>\n",
       "    <tr>\n",
       "      <th>3</th>\n",
       "      <td>W7NxQw8UYFR0HLPrI08tvw</td>\n",
       "      <td>pYXeL0RCqus2IfhthYCOyA</td>\n",
       "      <td>4.0</td>\n",
       "      <td>0</td>\n",
       "      <td>0</td>\n",
       "      <td>0</td>\n",
       "      <td>Don't know what it is but If my tummy's feelin...</td>\n",
       "      <td>2012-02-01 14:21:25</td>\n",
       "      <td>2012</td>\n",
       "      <td>02</td>\n",
       "      <td>14:21:25</td>\n",
       "    </tr>\n",
       "    <tr>\n",
       "      <th>4</th>\n",
       "      <td>7L1kXfwU5XM6f6Jxo_L7Yg</td>\n",
       "      <td>hToW2eoTAYlOcuNz7I73Cg</td>\n",
       "      <td>5.0</td>\n",
       "      <td>1</td>\n",
       "      <td>0</td>\n",
       "      <td>0</td>\n",
       "      <td>We've been coming here since I was a kid. The ...</td>\n",
       "      <td>2015-07-03 22:36:04</td>\n",
       "      <td>2015</td>\n",
       "      <td>07</td>\n",
       "      <td>22:36:04</td>\n",
       "    </tr>\n",
       "  </tbody>\n",
       "</table>\n",
       "</div>"
      ],
      "text/plain": [
       "              business_id                 user_id  stars  useful  funny  cool  \\\n",
       "0  YjUWPpI6HXG530lwP-fb2A  8g_iMtfSiwikVnbP2etR0A    3.0       0      0     0   \n",
       "1  otQS34_MymijPTdNBoBdCw  4Uh27DgGzsp6PqrH913giQ    4.0       0      2     0   \n",
       "2  5Ce3lZksYVkCbrihqylVHQ  yZdAhQ_KmKuCZmbBy9YDQg    5.0       0      0     0   \n",
       "3  W7NxQw8UYFR0HLPrI08tvw  pYXeL0RCqus2IfhthYCOyA    4.0       0      0     0   \n",
       "4  7L1kXfwU5XM6f6Jxo_L7Yg  hToW2eoTAYlOcuNz7I73Cg    5.0       1      0     0   \n",
       "\n",
       "                                                text                 date  \\\n",
       "0  Family diner. Had the buffet. Eclectic assortm...  2014-02-05 20:30:30   \n",
       "1  The bun makes the Sonoran Dog. It's like a snu...  2011-10-27 17:12:05   \n",
       "2  I just started going to Sushi Nara this month ...  2014-07-25 17:56:26   \n",
       "3  Don't know what it is but If my tummy's feelin...  2012-02-01 14:21:25   \n",
       "4  We've been coming here since I was a kid. The ...  2015-07-03 22:36:04   \n",
       "\n",
       "   year month      time  \n",
       "0  2014    02  20:30:30  \n",
       "1  2011    10  17:12:05  \n",
       "2  2014    07  17:56:26  \n",
       "3  2012    02  14:21:25  \n",
       "4  2015    07  22:36:04  "
      ]
     },
     "execution_count": 23,
     "metadata": {},
     "output_type": "execute_result"
    }
   ],
   "source": [
    "## Combining Business and Reviews Datasets\n",
    "# Creating a new column for each business's unique ids\n",
    "\n",
    "business_food['key'] = business_food.iloc[:,0]\n",
    "\n",
    "# Keeping only the reviews for the restaurants in our selected dataset\n",
    "\n",
    "restaurant_reviews = reviews_df[reviews_df['business_id'].isin(business_food['key'])]\n",
    "restaurant_reviews = restaurant_reviews.reset_index().iloc[:,2:]\n",
    "print(restaurant_reviews.shape)\n",
    "restaurant_reviews.head()"
   ]
  },
  {
   "cell_type": "code",
   "execution_count": 24,
   "metadata": {
    "ExecuteTime": {
     "end_time": "2020-10-14T11:37:20.825323Z",
     "start_time": "2020-10-14T11:37:20.805231Z"
    }
   },
   "outputs": [
    {
     "data": {
      "text/plain": [
       "(216544, 11)"
      ]
     },
     "execution_count": 24,
     "metadata": {},
     "output_type": "execute_result"
    }
   ],
   "source": [
    "# Total of 537,557 Rows of Reviews for the selected Restaurant Businesses\n",
    "\n",
    "restaurant_reviews.shape"
   ]
  },
  {
   "cell_type": "code",
   "execution_count": 25,
   "metadata": {
    "ExecuteTime": {
     "end_time": "2020-10-14T11:37:26.055250Z",
     "start_time": "2020-10-14T11:37:20.830291Z"
    }
   },
   "outputs": [
    {
     "data": {
      "text/plain": [
       "76020"
      ]
     },
     "execution_count": 25,
     "metadata": {},
     "output_type": "execute_result"
    }
   ],
   "source": [
    "# Number of Unique Users in this Reviews Dataset\n",
    "\n",
    "n_users = len(restaurant_reviews.user_id.unique())\n",
    "n_users #76,020 unique users in this review set"
   ]
  },
  {
   "cell_type": "code",
   "execution_count": 26,
   "metadata": {
    "ExecuteTime": {
     "end_time": "2020-10-14T11:45:25.097770Z",
     "start_time": "2020-10-14T11:37:26.063437Z"
    }
   },
   "outputs": [
    {
     "data": {
      "text/html": [
       "<div>\n",
       "<style scoped>\n",
       "    .dataframe tbody tr th:only-of-type {\n",
       "        vertical-align: middle;\n",
       "    }\n",
       "\n",
       "    .dataframe tbody tr th {\n",
       "        vertical-align: top;\n",
       "    }\n",
       "\n",
       "    .dataframe thead th {\n",
       "        text-align: right;\n",
       "    }\n",
       "</style>\n",
       "<table border=\"1\" class=\"dataframe\">\n",
       "  <thead>\n",
       "    <tr style=\"text-align: right;\">\n",
       "      <th></th>\n",
       "      <th>business_id</th>\n",
       "      <th>user_id</th>\n",
       "      <th>stars</th>\n",
       "      <th>useful</th>\n",
       "      <th>funny</th>\n",
       "      <th>cool</th>\n",
       "      <th>text</th>\n",
       "      <th>date</th>\n",
       "      <th>year</th>\n",
       "      <th>month</th>\n",
       "      <th>time</th>\n",
       "    </tr>\n",
       "  </thead>\n",
       "  <tbody>\n",
       "    <tr>\n",
       "      <th>55748</th>\n",
       "      <td>3pamD1Qj7MXrF6dglK_guQ</td>\n",
       "      <td>4nRS6b_-mZCQT8Q6wGOG7A</td>\n",
       "      <td>5.0</td>\n",
       "      <td>0</td>\n",
       "      <td>0</td>\n",
       "      <td>3</td>\n",
       "      <td>Oh yeah - it's been since the early 90's since...</td>\n",
       "      <td>2005-12-06 21:29:32</td>\n",
       "      <td>2005</td>\n",
       "      <td>12</td>\n",
       "      <td>21:29:32</td>\n",
       "    </tr>\n",
       "    <tr>\n",
       "      <th>88291</th>\n",
       "      <td>aYHjJJ64whQsxZjx5rUe_w</td>\n",
       "      <td>58yhbFfNHjULDZx0FD-Dvw</td>\n",
       "      <td>3.0</td>\n",
       "      <td>1</td>\n",
       "      <td>0</td>\n",
       "      <td>0</td>\n",
       "      <td>Upscale place, but you don't get good sushi fo...</td>\n",
       "      <td>2005-03-10 06:07:52</td>\n",
       "      <td>2005</td>\n",
       "      <td>03</td>\n",
       "      <td>06:07:52</td>\n",
       "    </tr>\n",
       "    <tr>\n",
       "      <th>65792</th>\n",
       "      <td>l8yqThofpWGUs6lxOeIdOA</td>\n",
       "      <td>58yhbFfNHjULDZx0FD-Dvw</td>\n",
       "      <td>5.0</td>\n",
       "      <td>0</td>\n",
       "      <td>0</td>\n",
       "      <td>0</td>\n",
       "      <td>Excellent middle eastern cuisine! Try any of t...</td>\n",
       "      <td>2005-06-08 06:15:02</td>\n",
       "      <td>2005</td>\n",
       "      <td>06</td>\n",
       "      <td>06:15:02</td>\n",
       "    </tr>\n",
       "    <tr>\n",
       "      <th>67777</th>\n",
       "      <td>LFUndZacUo5keXKHNPk-vQ</td>\n",
       "      <td>k2zuwaAne-FhHd8M6bXnyQ</td>\n",
       "      <td>5.0</td>\n",
       "      <td>2</td>\n",
       "      <td>2</td>\n",
       "      <td>2</td>\n",
       "      <td>angelina's special\\n\\nand limeade, \\n\\nplease!...</td>\n",
       "      <td>2005-10-14 04:07:05</td>\n",
       "      <td>2005</td>\n",
       "      <td>10</td>\n",
       "      <td>04:07:05</td>\n",
       "    </tr>\n",
       "    <tr>\n",
       "      <th>195694</th>\n",
       "      <td>2njTjQ35skXN171KoobeGg</td>\n",
       "      <td>ARCr4CO4hHfhhTBEBHiaHw</td>\n",
       "      <td>3.0</td>\n",
       "      <td>2</td>\n",
       "      <td>0</td>\n",
       "      <td>1</td>\n",
       "      <td>Raging Sage is a desert coffee shop founded, I...</td>\n",
       "      <td>2005-11-28 03:16:46</td>\n",
       "      <td>2005</td>\n",
       "      <td>11</td>\n",
       "      <td>03:16:46</td>\n",
       "    </tr>\n",
       "  </tbody>\n",
       "</table>\n",
       "</div>"
      ],
      "text/plain": [
       "                   business_id                 user_id  stars  useful  funny  \\\n",
       "55748   3pamD1Qj7MXrF6dglK_guQ  4nRS6b_-mZCQT8Q6wGOG7A    5.0       0      0   \n",
       "88291   aYHjJJ64whQsxZjx5rUe_w  58yhbFfNHjULDZx0FD-Dvw    3.0       1      0   \n",
       "65792   l8yqThofpWGUs6lxOeIdOA  58yhbFfNHjULDZx0FD-Dvw    5.0       0      0   \n",
       "67777   LFUndZacUo5keXKHNPk-vQ  k2zuwaAne-FhHd8M6bXnyQ    5.0       2      2   \n",
       "195694  2njTjQ35skXN171KoobeGg  ARCr4CO4hHfhhTBEBHiaHw    3.0       2      0   \n",
       "\n",
       "        cool                                               text  \\\n",
       "55748      3  Oh yeah - it's been since the early 90's since...   \n",
       "88291      0  Upscale place, but you don't get good sushi fo...   \n",
       "65792      0  Excellent middle eastern cuisine! Try any of t...   \n",
       "67777      2  angelina's special\\n\\nand limeade, \\n\\nplease!...   \n",
       "195694     1  Raging Sage is a desert coffee shop founded, I...   \n",
       "\n",
       "                       date  year month      time  \n",
       "55748   2005-12-06 21:29:32  2005    12  21:29:32  \n",
       "88291   2005-03-10 06:07:52  2005    03  06:07:52  \n",
       "65792   2005-06-08 06:15:02  2005    06  06:15:02  \n",
       "67777   2005-10-14 04:07:05  2005    10  04:07:05  \n",
       "195694  2005-11-28 03:16:46  2005    11  03:16:46  "
      ]
     },
     "execution_count": 26,
     "metadata": {},
     "output_type": "execute_result"
    }
   ],
   "source": [
    "# Sort Restaurant Reviews by Year\n",
    "\n",
    "restaurant_sorted = restaurant_reviews.sort_values(by='year', ascending=True)\n",
    "restaurant_sorted.head()"
   ]
  },
  {
   "cell_type": "code",
   "execution_count": 27,
   "metadata": {
    "ExecuteTime": {
     "end_time": "2020-10-14T11:51:12.121371Z",
     "start_time": "2020-10-14T11:45:25.124340Z"
    }
   },
   "outputs": [
    {
     "data": {
      "image/png": "[encoded data removed]",
      "text/plain": [
       "<Figure size 1400x700 with 1 Axes>"
      ]
     },
     "metadata": {},
     "output_type": "display_data"
    }
   ],
   "source": [
    "# Histogram plot of Restaurant Reviews per Year\n",
    "\n",
    "def make_histogram(dataset, attribute, bins=13, bar_color='#3498db', edge_color='#2980b9', title='Title', xlab='X', ylab='Y', sort_index=False):\n",
    "        \n",
    "    fig, ax = plt.subplots(figsize=(14, 7))\n",
    "    ax.set_title(title, fontsize=24, pad=20)\n",
    "    ax.set_xlabel(xlab, fontsize=16, labelpad=20)\n",
    "    ax.set_ylabel(ylab, fontsize=16, labelpad=20)\n",
    "    \n",
    "    plt.hist(dataset[attribute], bins=bins, color=bar_color, ec=edge_color, linewidth=2) \n",
    "    plt.xticks(rotation=45)\n",
    "    \n",
    "make_histogram(restaurant_sorted, 'year', title='Reviews per year', xlab='Year', ylab='Counts')"
   ]
  },
  {
   "cell_type": "markdown",
   "metadata": {},
   "source": [
    "The histogram has a right-skewed distribution with the majority of reviews being in the last 5 years of the dataset (2013-2022). For the purpose of this Capstone Project, I will only be analyzing reviews from the **past 5 years**."
   ]
  },
  {
   "cell_type": "code",
   "execution_count": 28,
   "metadata": {
    "ExecuteTime": {
     "end_time": "2020-10-14T11:52:33.484123Z",
     "start_time": "2020-10-14T11:51:12.284561Z"
    }
   },
   "outputs": [
    {
     "name": "stdout",
     "output_type": "stream",
     "text": [
      "(195169, 11)\n"
     ]
    },
    {
     "data": {
      "text/html": [
       "<div>\n",
       "<style scoped>\n",
       "    .dataframe tbody tr th:only-of-type {\n",
       "        vertical-align: middle;\n",
       "    }\n",
       "\n",
       "    .dataframe tbody tr th {\n",
       "        vertical-align: top;\n",
       "    }\n",
       "\n",
       "    .dataframe thead th {\n",
       "        text-align: right;\n",
       "    }\n",
       "</style>\n",
       "<table border=\"1\" class=\"dataframe\">\n",
       "  <thead>\n",
       "    <tr style=\"text-align: right;\">\n",
       "      <th></th>\n",
       "      <th>business_id</th>\n",
       "      <th>user_id</th>\n",
       "      <th>stars</th>\n",
       "      <th>useful</th>\n",
       "      <th>funny</th>\n",
       "      <th>cool</th>\n",
       "      <th>text</th>\n",
       "      <th>date</th>\n",
       "      <th>year</th>\n",
       "      <th>month</th>\n",
       "      <th>time</th>\n",
       "    </tr>\n",
       "  </thead>\n",
       "  <tbody>\n",
       "    <tr>\n",
       "      <th>0</th>\n",
       "      <td>YjUWPpI6HXG530lwP-fb2A</td>\n",
       "      <td>8g_iMtfSiwikVnbP2etR0A</td>\n",
       "      <td>3.0</td>\n",
       "      <td>0</td>\n",
       "      <td>0</td>\n",
       "      <td>0</td>\n",
       "      <td>Family diner. Had the buffet. Eclectic assortm...</td>\n",
       "      <td>2014-02-05 20:30:30</td>\n",
       "      <td>2014</td>\n",
       "      <td>02</td>\n",
       "      <td>20:30:30</td>\n",
       "    </tr>\n",
       "    <tr>\n",
       "      <th>2</th>\n",
       "      <td>5Ce3lZksYVkCbrihqylVHQ</td>\n",
       "      <td>yZdAhQ_KmKuCZmbBy9YDQg</td>\n",
       "      <td>5.0</td>\n",
       "      <td>0</td>\n",
       "      <td>0</td>\n",
       "      <td>0</td>\n",
       "      <td>I just started going to Sushi Nara this month ...</td>\n",
       "      <td>2014-07-25 17:56:26</td>\n",
       "      <td>2014</td>\n",
       "      <td>07</td>\n",
       "      <td>17:56:26</td>\n",
       "    </tr>\n",
       "    <tr>\n",
       "      <th>4</th>\n",
       "      <td>7L1kXfwU5XM6f6Jxo_L7Yg</td>\n",
       "      <td>hToW2eoTAYlOcuNz7I73Cg</td>\n",
       "      <td>5.0</td>\n",
       "      <td>1</td>\n",
       "      <td>0</td>\n",
       "      <td>0</td>\n",
       "      <td>We've been coming here since I was a kid. The ...</td>\n",
       "      <td>2015-07-03 22:36:04</td>\n",
       "      <td>2015</td>\n",
       "      <td>07</td>\n",
       "      <td>22:36:04</td>\n",
       "    </tr>\n",
       "    <tr>\n",
       "      <th>5</th>\n",
       "      <td>WLiqfxv_GhFFA5sm878a2w</td>\n",
       "      <td>CysTz612pTix75Fye6-D4Q</td>\n",
       "      <td>5.0</td>\n",
       "      <td>0</td>\n",
       "      <td>1</td>\n",
       "      <td>1</td>\n",
       "      <td>Blew $80 on food for the family was worth it f...</td>\n",
       "      <td>2013-12-29 03:15:34</td>\n",
       "      <td>2013</td>\n",
       "      <td>12</td>\n",
       "      <td>03:15:34</td>\n",
       "    </tr>\n",
       "    <tr>\n",
       "      <th>6</th>\n",
       "      <td>3YERGr7UbpSpddqL0Eiu5g</td>\n",
       "      <td>7zJVt_Bl1h5hLjhxl2c1PQ</td>\n",
       "      <td>5.0</td>\n",
       "      <td>1</td>\n",
       "      <td>0</td>\n",
       "      <td>1</td>\n",
       "      <td>This is my favorite restaurant!  I always orde...</td>\n",
       "      <td>2017-12-16 00:18:10</td>\n",
       "      <td>2017</td>\n",
       "      <td>12</td>\n",
       "      <td>00:18:10</td>\n",
       "    </tr>\n",
       "  </tbody>\n",
       "</table>\n",
       "</div>"
      ],
      "text/plain": [
       "              business_id                 user_id  stars  useful  funny  cool  \\\n",
       "0  YjUWPpI6HXG530lwP-fb2A  8g_iMtfSiwikVnbP2etR0A    3.0       0      0     0   \n",
       "2  5Ce3lZksYVkCbrihqylVHQ  yZdAhQ_KmKuCZmbBy9YDQg    5.0       0      0     0   \n",
       "4  7L1kXfwU5XM6f6Jxo_L7Yg  hToW2eoTAYlOcuNz7I73Cg    5.0       1      0     0   \n",
       "5  WLiqfxv_GhFFA5sm878a2w  CysTz612pTix75Fye6-D4Q    5.0       0      1     1   \n",
       "6  3YERGr7UbpSpddqL0Eiu5g  7zJVt_Bl1h5hLjhxl2c1PQ    5.0       1      0     1   \n",
       "\n",
       "                                                text                 date  \\\n",
       "0  Family diner. Had the buffet. Eclectic assortm...  2014-02-05 20:30:30   \n",
       "2  I just started going to Sushi Nara this month ...  2014-07-25 17:56:26   \n",
       "4  We've been coming here since I was a kid. The ...  2015-07-03 22:36:04   \n",
       "5  Blew $80 on food for the family was worth it f...  2013-12-29 03:15:34   \n",
       "6  This is my favorite restaurant!  I always orde...  2017-12-16 00:18:10   \n",
       "\n",
       "   year month      time  \n",
       "0  2014    02  20:30:30  \n",
       "2  2014    07  17:56:26  \n",
       "4  2015    07  22:36:04  \n",
       "5  2013    12  03:15:34  \n",
       "6  2017    12  00:18:10  "
      ]
     },
     "execution_count": 28,
     "metadata": {},
     "output_type": "execute_result"
    }
   ],
   "source": [
    "# Filtering for Restaurant/Food Reviews from 2013-2022\n",
    "\n",
    "restaurant_reviews['year'] = restaurant_reviews['year'].astype(int)\n",
    "restaurant_reviews = restaurant_reviews[restaurant_reviews['year'] >= 2013]\n",
    "\n",
    "# Overview of our Final Reviews Dataset, left with 195169 rows of Data\n",
    "\n",
    "print(restaurant_reviews.shape)\n",
    "restaurant_reviews.head()"
   ]
  },
  {
   "cell_type": "code",
   "execution_count": 29,
   "metadata": {
    "ExecuteTime": {
     "end_time": "2020-10-14T11:52:46.266251Z",
     "start_time": "2020-10-14T11:52:33.499391Z"
    }
   },
   "outputs": [
    {
     "data": {
      "text/plain": [
       "business_id    0\n",
       "user_id        0\n",
       "stars          0\n",
       "useful         0\n",
       "funny          0\n",
       "cool           0\n",
       "text           0\n",
       "date           0\n",
       "year           0\n",
       "month          0\n",
       "time           0\n",
       "dtype: int64"
      ]
     },
     "execution_count": 29,
     "metadata": {},
     "output_type": "execute_result"
    }
   ],
   "source": [
    "# Checking for Null Values\n",
    "\n",
    "restaurant_reviews.isnull().sum()"
   ]
  },
  {
   "cell_type": "markdown",
   "metadata": {},
   "source": [
    "We have **195169** rows of review data for Restaurants and Food outlets in `Tucson`."
   ]
  },
  {
   "cell_type": "markdown",
   "metadata": {},
   "source": [
    "### User File"
   ]
  },
  {
   "cell_type": "code",
   "execution_count": 31,
   "metadata": {
    "ExecuteTime": {
     "end_time": "2020-10-14T11:54:50.370162Z",
     "start_time": "2020-10-14T11:52:46.274147Z"
    }
   },
   "outputs": [
    {
     "name": "stderr",
     "output_type": "stream",
     "text": [
      "python(25270) MallocStackLogging: can't turn off malloc stack logging because it was not enabled.\n",
      "100%|██████████████████████████████| 1987897/1987897 [00:20<00:00, 98744.93it/s]\n"
     ]
    }
   ],
   "source": [
    "# Importing User JSON File\n",
    "\n",
    "line_count = len(open(\"/Users/a_appiagyei/Downloads/yelp_dataset/yelp_academic_dataset_user.json\").readlines())\n",
    "\n",
    "# Creating Columns for Dataframe\n",
    "\n",
    "users, names, review_counts, since, friends, useful, \\\n",
    "            funny, cool, n_fans, years_elite, average_stars = [], [], [], [], [], [], [], [], [], [], []\n",
    "\n",
    "# Iterating through each row of the json file\n",
    "\n",
    "with open(\"/Users/a_appiagyei/Downloads/yelp_dataset/yelp_academic_dataset_user.json\") as f:\n",
    "    for line in tqdm(f, total=line_count):\n",
    "        blob = json.loads(line)\n",
    "        users += [blob[\"user_id\"]]\n",
    "        names += [blob[\"name\"]]\n",
    "        review_counts += [blob[\"review_count\"]]\n",
    "        since += [blob[\"yelping_since\"]]\n",
    "        friends += [blob[\"friends\"]]\n",
    "        useful += [blob[\"useful\"]]\n",
    "        funny += [blob[\"funny\"]]\n",
    "        cool += [blob[\"cool\"]]\n",
    "        n_fans += [blob[\"fans\"]]\n",
    "        average_stars += [blob[\"average_stars\"]]\n",
    "\n",
    "# Creating Dataframe for User json file\n",
    "\n",
    "users_df = pd.DataFrame(\n",
    "    {\"user_id\": users, \n",
    "     \"user_name\": names,\n",
    "     \"user_review_count\": review_counts,\n",
    "     \"user_yelp_since\": since,\n",
    "     \"friends\": friends,\n",
    "     \"useful_reviews\": useful,\n",
    "     \"funny_reviews\": funny,\n",
    "     \"cool_reviews\": cool,\n",
    "     \"n_fans\": n_fans,\n",
    "     \"average_stars\": average_stars\n",
    "    }\n",
    ")"
   ]
  },
  {
   "cell_type": "code",
   "execution_count": 32,
   "metadata": {
    "ExecuteTime": {
     "end_time": "2020-10-14T11:54:52.432465Z",
     "start_time": "2020-10-14T11:54:50.392298Z"
    }
   },
   "outputs": [
    {
     "name": "stdout",
     "output_type": "stream",
     "text": [
      "(1087094, 10)\n"
     ]
    },
    {
     "data": {
      "text/html": [
       "<div>\n",
       "<style scoped>\n",
       "    .dataframe tbody tr th:only-of-type {\n",
       "        vertical-align: middle;\n",
       "    }\n",
       "\n",
       "    .dataframe tbody tr th {\n",
       "        vertical-align: top;\n",
       "    }\n",
       "\n",
       "    .dataframe thead th {\n",
       "        text-align: right;\n",
       "    }\n",
       "</style>\n",
       "<table border=\"1\" class=\"dataframe\">\n",
       "  <thead>\n",
       "    <tr style=\"text-align: right;\">\n",
       "      <th></th>\n",
       "      <th>user_id</th>\n",
       "      <th>user_name</th>\n",
       "      <th>user_review_count</th>\n",
       "      <th>user_yelp_since</th>\n",
       "      <th>friends</th>\n",
       "      <th>useful_reviews</th>\n",
       "      <th>funny_reviews</th>\n",
       "      <th>cool_reviews</th>\n",
       "      <th>n_fans</th>\n",
       "      <th>average_stars</th>\n",
       "    </tr>\n",
       "  </thead>\n",
       "  <tbody>\n",
       "    <tr>\n",
       "      <th>720466</th>\n",
       "      <td>zvPfYMEQH3fTEBbPONE5dw</td>\n",
       "      <td>katie</td>\n",
       "      <td>7</td>\n",
       "      <td>2010-10-06 16:24:44</td>\n",
       "      <td>None</td>\n",
       "      <td>14</td>\n",
       "      <td>6</td>\n",
       "      <td>1</td>\n",
       "      <td>0</td>\n",
       "      <td>1.57</td>\n",
       "    </tr>\n",
       "    <tr>\n",
       "      <th>1761511</th>\n",
       "      <td>28FyTtsehJBIcL7RTiQ6KQ</td>\n",
       "      <td>Steve</td>\n",
       "      <td>6</td>\n",
       "      <td>2012-07-21 21:51:36</td>\n",
       "      <td>None</td>\n",
       "      <td>1</td>\n",
       "      <td>0</td>\n",
       "      <td>0</td>\n",
       "      <td>0</td>\n",
       "      <td>4.83</td>\n",
       "    </tr>\n",
       "    <tr>\n",
       "      <th>608426</th>\n",
       "      <td>nF868nd9iCSaEaYywI1Ilg</td>\n",
       "      <td>Jay</td>\n",
       "      <td>13</td>\n",
       "      <td>2009-08-26 02:52:53</td>\n",
       "      <td>0khG4VjNvfeWst7XH-Ge0g, YSgWc4Tj4ap9LF0eqlb6OQ...</td>\n",
       "      <td>14</td>\n",
       "      <td>8</td>\n",
       "      <td>3</td>\n",
       "      <td>1</td>\n",
       "      <td>4.31</td>\n",
       "    </tr>\n",
       "    <tr>\n",
       "      <th>211515</th>\n",
       "      <td>2zOXdbLjhFkcXSqpyhYBnQ</td>\n",
       "      <td>Darlene</td>\n",
       "      <td>114</td>\n",
       "      <td>2009-06-04 01:23:57</td>\n",
       "      <td>1IIDeUWkuGNeCaUXwhKo0w, DkkhIpXSijonqKb-EaQjGQ...</td>\n",
       "      <td>293</td>\n",
       "      <td>81</td>\n",
       "      <td>64</td>\n",
       "      <td>10</td>\n",
       "      <td>3.57</td>\n",
       "    </tr>\n",
       "    <tr>\n",
       "      <th>171039</th>\n",
       "      <td>hV1E7bOsKvIlJ1TbmtILyg</td>\n",
       "      <td>Marie</td>\n",
       "      <td>39</td>\n",
       "      <td>2009-05-09 21:48:26</td>\n",
       "      <td>None</td>\n",
       "      <td>21</td>\n",
       "      <td>0</td>\n",
       "      <td>3</td>\n",
       "      <td>0</td>\n",
       "      <td>4.10</td>\n",
       "    </tr>\n",
       "    <tr>\n",
       "      <th>1592101</th>\n",
       "      <td>LgaelHkhtBm1OPAE_dyjtA</td>\n",
       "      <td>Antony</td>\n",
       "      <td>35</td>\n",
       "      <td>2009-06-13 16:08:18</td>\n",
       "      <td>z2L8-6A8Tsf0H3KMTHZJUg, 9TAq1yTRxQu5dZkIOGd1-Q...</td>\n",
       "      <td>27</td>\n",
       "      <td>2</td>\n",
       "      <td>8</td>\n",
       "      <td>6</td>\n",
       "      <td>4.08</td>\n",
       "    </tr>\n",
       "    <tr>\n",
       "      <th>1070672</th>\n",
       "      <td>D_P7_4ZR3VHc4acHFdtSfQ</td>\n",
       "      <td>Adam</td>\n",
       "      <td>53</td>\n",
       "      <td>2015-06-18 02:33:51</td>\n",
       "      <td>7WVGR0PIatBM0ap5gwSJHA, dzCJw-JkvPXVNOzicwNGqw...</td>\n",
       "      <td>39</td>\n",
       "      <td>9</td>\n",
       "      <td>5</td>\n",
       "      <td>0</td>\n",
       "      <td>2.73</td>\n",
       "    </tr>\n",
       "    <tr>\n",
       "      <th>209380</th>\n",
       "      <td>fAOWpMsOfjV8VIswT2mlfg</td>\n",
       "      <td>Marcus</td>\n",
       "      <td>15</td>\n",
       "      <td>2008-10-31 17:38:28</td>\n",
       "      <td>aVmrsrbzO3DfxQFITKBi7A, r6iZGSIcFA0gjqOevVRh8A...</td>\n",
       "      <td>20</td>\n",
       "      <td>3</td>\n",
       "      <td>4</td>\n",
       "      <td>1</td>\n",
       "      <td>3.67</td>\n",
       "    </tr>\n",
       "    <tr>\n",
       "      <th>1486632</th>\n",
       "      <td>7bu8PisOJwP2i836CjxKvg</td>\n",
       "      <td>Carl</td>\n",
       "      <td>22</td>\n",
       "      <td>2008-06-26 05:30:54</td>\n",
       "      <td>Q2w1iJx4wTqWeTG374V4yw</td>\n",
       "      <td>11</td>\n",
       "      <td>5</td>\n",
       "      <td>13</td>\n",
       "      <td>0</td>\n",
       "      <td>3.61</td>\n",
       "    </tr>\n",
       "    <tr>\n",
       "      <th>67760</th>\n",
       "      <td>zJ8Ebca8lYzhlMFQ_Fr4YQ</td>\n",
       "      <td>Larry</td>\n",
       "      <td>6</td>\n",
       "      <td>2013-02-02 22:02:02</td>\n",
       "      <td>XVPbioXE_TjL6sBxwexudw, btgN-TjlUaxzQNfKOhfRzw...</td>\n",
       "      <td>5</td>\n",
       "      <td>1</td>\n",
       "      <td>0</td>\n",
       "      <td>0</td>\n",
       "      <td>1.83</td>\n",
       "    </tr>\n",
       "  </tbody>\n",
       "</table>\n",
       "</div>"
      ],
      "text/plain": [
       "                        user_id user_name  user_review_count  \\\n",
       "720466   zvPfYMEQH3fTEBbPONE5dw     katie                  7   \n",
       "1761511  28FyTtsehJBIcL7RTiQ6KQ     Steve                  6   \n",
       "608426   nF868nd9iCSaEaYywI1Ilg       Jay                 13   \n",
       "211515   2zOXdbLjhFkcXSqpyhYBnQ   Darlene                114   \n",
       "171039   hV1E7bOsKvIlJ1TbmtILyg     Marie                 39   \n",
       "1592101  LgaelHkhtBm1OPAE_dyjtA    Antony                 35   \n",
       "1070672  D_P7_4ZR3VHc4acHFdtSfQ      Adam                 53   \n",
       "209380   fAOWpMsOfjV8VIswT2mlfg    Marcus                 15   \n",
       "1486632  7bu8PisOJwP2i836CjxKvg      Carl                 22   \n",
       "67760    zJ8Ebca8lYzhlMFQ_Fr4YQ     Larry                  6   \n",
       "\n",
       "             user_yelp_since  \\\n",
       "720466   2010-10-06 16:24:44   \n",
       "1761511  2012-07-21 21:51:36   \n",
       "608426   2009-08-26 02:52:53   \n",
       "211515   2009-06-04 01:23:57   \n",
       "171039   2009-05-09 21:48:26   \n",
       "1592101  2009-06-13 16:08:18   \n",
       "1070672  2015-06-18 02:33:51   \n",
       "209380   2008-10-31 17:38:28   \n",
       "1486632  2008-06-26 05:30:54   \n",
       "67760    2013-02-02 22:02:02   \n",
       "\n",
       "                                                   friends  useful_reviews  \\\n",
       "720466                                                None              14   \n",
       "1761511                                               None               1   \n",
       "608426   0khG4VjNvfeWst7XH-Ge0g, YSgWc4Tj4ap9LF0eqlb6OQ...              14   \n",
       "211515   1IIDeUWkuGNeCaUXwhKo0w, DkkhIpXSijonqKb-EaQjGQ...             293   \n",
       "171039                                                None              21   \n",
       "1592101  z2L8-6A8Tsf0H3KMTHZJUg, 9TAq1yTRxQu5dZkIOGd1-Q...              27   \n",
       "1070672  7WVGR0PIatBM0ap5gwSJHA, dzCJw-JkvPXVNOzicwNGqw...              39   \n",
       "209380   aVmrsrbzO3DfxQFITKBi7A, r6iZGSIcFA0gjqOevVRh8A...              20   \n",
       "1486632                             Q2w1iJx4wTqWeTG374V4yw              11   \n",
       "67760    XVPbioXE_TjL6sBxwexudw, btgN-TjlUaxzQNfKOhfRzw...               5   \n",
       "\n",
       "         funny_reviews  cool_reviews  n_fans  average_stars  \n",
       "720466               6             1       0           1.57  \n",
       "1761511              0             0       0           4.83  \n",
       "608426               8             3       1           4.31  \n",
       "211515              81            64      10           3.57  \n",
       "171039               0             3       0           4.10  \n",
       "1592101              2             8       6           4.08  \n",
       "1070672              9             5       0           2.73  \n",
       "209380               3             4       1           3.67  \n",
       "1486632              5            13       0           3.61  \n",
       "67760                1             0       0           1.83  "
      ]
     },
     "execution_count": 32,
     "metadata": {},
     "output_type": "execute_result"
    }
   ],
   "source": [
    "# Filtering for Active Yelp Users who have completed at least 5 reviews\n",
    "\n",
    "users_df = users_df[users_df['user_review_count'] >= 5]\n",
    "\n",
    "# Overview of our JSON Dataframe\n",
    "\n",
    "print(users_df.shape)\n",
    "users_df.sample(10)"
   ]
  },
  {
   "cell_type": "code",
   "execution_count": 33,
   "metadata": {
    "ExecuteTime": {
     "end_time": "2020-10-14T11:54:53.697077Z",
     "start_time": "2020-10-14T11:54:52.437840Z"
    }
   },
   "outputs": [
    {
     "data": {
      "text/plain": [
       "1087094"
      ]
     },
     "execution_count": 33,
     "metadata": {},
     "output_type": "execute_result"
    }
   ],
   "source": [
    "# Number of unique active users in our user_df dataset\n",
    "\n",
    "n_users = len(users_df.user_id.unique())\n",
    "n_users # 1,047,892 unique active users"
   ]
  },
  {
   "cell_type": "code",
   "execution_count": 34,
   "metadata": {
    "ExecuteTime": {
     "end_time": "2020-10-14T11:54:54.988738Z",
     "start_time": "2020-10-14T11:54:53.703815Z"
    }
   },
   "outputs": [
    {
     "data": {
      "text/plain": [
       "user_id              0\n",
       "user_name            0\n",
       "user_review_count    0\n",
       "user_yelp_since      0\n",
       "friends              0\n",
       "useful_reviews       0\n",
       "funny_reviews        0\n",
       "cool_reviews         0\n",
       "n_fans               0\n",
       "average_stars        0\n",
       "dtype: int64"
      ]
     },
     "execution_count": 34,
     "metadata": {},
     "output_type": "execute_result"
    }
   ],
   "source": [
    "# Checking for Null Values\n",
    "\n",
    "users_df.isnull().sum()"
   ]
  },
  {
   "cell_type": "markdown",
   "metadata": {},
   "source": [
    "### Finalizing Restaurants Business Dataset"
   ]
  },
  {
   "cell_type": "code",
   "execution_count": 35,
   "metadata": {
    "ExecuteTime": {
     "end_time": "2020-10-14T11:54:56.994083Z",
     "start_time": "2020-10-14T11:54:54.994385Z"
    }
   },
   "outputs": [
    {
     "data": {
      "text/plain": [
       "AZ    1805\n",
       "Name: state, dtype: int64"
      ]
     },
     "execution_count": 35,
     "metadata": {},
     "output_type": "execute_result"
    }
   ],
   "source": [
    "# Number of Restaurant Businesses in Arizona\n",
    "\n",
    "business_food.state.value_counts()"
   ]
  },
  {
   "cell_type": "code",
   "execution_count": 36,
   "metadata": {
    "ExecuteTime": {
     "end_time": "2020-10-14T11:55:04.812687Z",
     "start_time": "2020-10-14T11:54:56.998564Z"
    }
   },
   "outputs": [
    {
     "data": {
      "text/plain": [
       "(array([   0.,  200.,  400.,  600.,  800., 1000., 1200., 1400., 1600.,\n",
       "        1800.]),\n",
       " [Text(0.0, 0, '0'),\n",
       "  Text(200.0, 0, '200'),\n",
       "  Text(400.0, 0, '400'),\n",
       "  Text(600.0, 0, '600'),\n",
       "  Text(800.0, 0, '800'),\n",
       "  Text(1000.0, 0, '1000'),\n",
       "  Text(1200.0, 0, '1200'),\n",
       "  Text(1400.0, 0, '1400'),\n",
       "  Text(1600.0, 0, '1600'),\n",
       "  Text(1800.0, 0, '1800')])"
      ]
     },
     "execution_count": 36,
     "metadata": {},
     "output_type": "execute_result"
    },
    {
     "data": {
      "image/png": "[encoded data removed]",
      "text/plain": [
       "<Figure size 1400x700 with 1 Axes>"
      ]
     },
     "metadata": {},
     "output_type": "display_data"
    }
   ],
   "source": [
    "# Distribution of Cities with Most Restaurant Businesses in Arizona\n",
    "\n",
    "#business_on = business_food[business_food['state']=='ON']\n",
    "arizona_cities = business_food['city']\n",
    "top_cities = arizona_cities.value_counts().head(10)\n",
    "top_cities.sort_values(inplace=True)\n",
    "\n",
    "fig, ax = plt.subplots(figsize=(14, 7), )\n",
    "fig.suptitle('Top 10 Cities with Most Restaurant Businesses in Arizona', fontsize=18)\n",
    "\n",
    "top_cities.plot(kind = 'barh', color= 'darkorange')\n",
    "\n",
    "plt.ylabel('Cities in Arizona', fontsize=15)\n",
    "plt.xlabel('Number of Restaurants per City', fontsize=15)\n",
    "plt.xticks(rotation=65)"
   ]
  },
  {
   "cell_type": "markdown",
   "metadata": {},
   "source": [
    "Based on the above plot, the city of `Tucson` has the majority of the business data. Hence, it will be more concise to focus just on the city of `Tucson` and drop the rest of the cities in `Arizona`."
   ]
  },
  {
   "cell_type": "code",
   "execution_count": 37,
   "metadata": {
    "ExecuteTime": {
     "end_time": "2020-10-14T11:55:09.634504Z",
     "start_time": "2020-10-14T11:55:04.838582Z"
    }
   },
   "outputs": [
    {
     "name": "stdout",
     "output_type": "stream",
     "text": [
      "(1641, 12)\n"
     ]
    },
    {
     "data": {
      "text/html": [
       "<div>\n",
       "<style scoped>\n",
       "    .dataframe tbody tr th:only-of-type {\n",
       "        vertical-align: middle;\n",
       "    }\n",
       "\n",
       "    .dataframe tbody tr th {\n",
       "        vertical-align: top;\n",
       "    }\n",
       "\n",
       "    .dataframe thead th {\n",
       "        text-align: right;\n",
       "    }\n",
       "</style>\n",
       "<table border=\"1\" class=\"dataframe\">\n",
       "  <thead>\n",
       "    <tr style=\"text-align: right;\">\n",
       "      <th></th>\n",
       "      <th>business_id</th>\n",
       "      <th>name</th>\n",
       "      <th>city</th>\n",
       "      <th>state</th>\n",
       "      <th>stars</th>\n",
       "      <th>review_count</th>\n",
       "      <th>categories</th>\n",
       "      <th>latitude</th>\n",
       "      <th>longitude</th>\n",
       "      <th>is_open</th>\n",
       "      <th>postal_code</th>\n",
       "      <th>key</th>\n",
       "    </tr>\n",
       "  </thead>\n",
       "  <tbody>\n",
       "    <tr>\n",
       "      <th>126</th>\n",
       "      <td>anLQj9AM8vjbcLSIE0iUgg</td>\n",
       "      <td>Papa Murphy's</td>\n",
       "      <td>Tucson</td>\n",
       "      <td>AZ</td>\n",
       "      <td>4.0</td>\n",
       "      <td>22</td>\n",
       "      <td>Pizza, Restaurants</td>\n",
       "      <td>32.338572</td>\n",
       "      <td>-111.010760</td>\n",
       "      <td>1</td>\n",
       "      <td>85741</td>\n",
       "      <td>anLQj9AM8vjbcLSIE0iUgg</td>\n",
       "    </tr>\n",
       "    <tr>\n",
       "      <th>132</th>\n",
       "      <td>9C2rpb56aQvW0ViZHK9sPw</td>\n",
       "      <td>Home Plate Sports Pub</td>\n",
       "      <td>Tucson</td>\n",
       "      <td>AZ</td>\n",
       "      <td>3.5</td>\n",
       "      <td>56</td>\n",
       "      <td>Bars, Restaurants, Sports Bars, Nightlife</td>\n",
       "      <td>32.206315</td>\n",
       "      <td>-110.887843</td>\n",
       "      <td>1</td>\n",
       "      <td>85711</td>\n",
       "      <td>9C2rpb56aQvW0ViZHK9sPw</td>\n",
       "    </tr>\n",
       "    <tr>\n",
       "      <th>234</th>\n",
       "      <td>Y6heWJJ9AmEL58fZwgi9YQ</td>\n",
       "      <td>Rosati's Pizza</td>\n",
       "      <td>Tucson</td>\n",
       "      <td>AZ</td>\n",
       "      <td>4.0</td>\n",
       "      <td>58</td>\n",
       "      <td>Sports Bars, Bars, Nightlife, Italian, Restaur...</td>\n",
       "      <td>32.338724</td>\n",
       "      <td>-111.030310</td>\n",
       "      <td>1</td>\n",
       "      <td>85741</td>\n",
       "      <td>Y6heWJJ9AmEL58fZwgi9YQ</td>\n",
       "    </tr>\n",
       "    <tr>\n",
       "      <th>319</th>\n",
       "      <td>f82dhKNiUXsDVPMLqKYiIQ</td>\n",
       "      <td>Sher-e-Punjab</td>\n",
       "      <td>Tucson</td>\n",
       "      <td>AZ</td>\n",
       "      <td>4.0</td>\n",
       "      <td>446</td>\n",
       "      <td>Restaurants, Salad, Pakistani, Indian, Cocktai...</td>\n",
       "      <td>32.250960</td>\n",
       "      <td>-110.959158</td>\n",
       "      <td>1</td>\n",
       "      <td>85719</td>\n",
       "      <td>f82dhKNiUXsDVPMLqKYiIQ</td>\n",
       "    </tr>\n",
       "    <tr>\n",
       "      <th>457</th>\n",
       "      <td>D7z_V6E8cxXghSRcHAmUPg</td>\n",
       "      <td>La Bella China Restaurant</td>\n",
       "      <td>Tucson</td>\n",
       "      <td>AZ</td>\n",
       "      <td>4.0</td>\n",
       "      <td>92</td>\n",
       "      <td>Restaurants, Chinese</td>\n",
       "      <td>32.149473</td>\n",
       "      <td>-110.978186</td>\n",
       "      <td>1</td>\n",
       "      <td>85706</td>\n",
       "      <td>D7z_V6E8cxXghSRcHAmUPg</td>\n",
       "    </tr>\n",
       "  </tbody>\n",
       "</table>\n",
       "</div>"
      ],
      "text/plain": [
       "               business_id                        name    city state  stars  \\\n",
       "126  anLQj9AM8vjbcLSIE0iUgg              Papa Murphy's  Tucson    AZ    4.0   \n",
       "132  9C2rpb56aQvW0ViZHK9sPw      Home Plate Sports Pub  Tucson    AZ    3.5   \n",
       "234  Y6heWJJ9AmEL58fZwgi9YQ             Rosati's Pizza  Tucson    AZ    4.0   \n",
       "319  f82dhKNiUXsDVPMLqKYiIQ              Sher-e-Punjab  Tucson    AZ    4.0   \n",
       "457  D7z_V6E8cxXghSRcHAmUPg  La Bella China Restaurant  Tucson    AZ    4.0   \n",
       "\n",
       "     review_count                                         categories  \\\n",
       "126            22                                 Pizza, Restaurants   \n",
       "132            56          Bars, Restaurants, Sports Bars, Nightlife   \n",
       "234            58  Sports Bars, Bars, Nightlife, Italian, Restaur...   \n",
       "319           446  Restaurants, Salad, Pakistani, Indian, Cocktai...   \n",
       "457            92                               Restaurants, Chinese   \n",
       "\n",
       "      latitude   longitude  is_open postal_code                     key  \n",
       "126  32.338572 -111.010760        1       85741  anLQj9AM8vjbcLSIE0iUgg  \n",
       "132  32.206315 -110.887843        1       85711  9C2rpb56aQvW0ViZHK9sPw  \n",
       "234  32.338724 -111.030310        1       85741  Y6heWJJ9AmEL58fZwgi9YQ  \n",
       "319  32.250960 -110.959158        1       85719  f82dhKNiUXsDVPMLqKYiIQ  \n",
       "457  32.149473 -110.978186        1       85706  D7z_V6E8cxXghSRcHAmUPg  "
      ]
     },
     "execution_count": 37,
     "metadata": {},
     "output_type": "execute_result"
    }
   ],
   "source": [
    "# Filtering for Restaurant Business Data in the city of Tucson\n",
    "\n",
    "business_tucson = business_food[business_food['city'] == 'Tucson']\n",
    "print(business_tucson.shape)\n",
    "business_tucson.head()"
   ]
  },
  {
   "cell_type": "markdown",
   "metadata": {},
   "source": [
    "After filtering, we are now left with **1641** Restaurant Businesses Data in Tucson in our dataset."
   ]
  },
  {
   "cell_type": "code",
   "execution_count": 39,
   "metadata": {
    "ExecuteTime": {
     "end_time": "2020-10-14T11:55:35.682517Z",
     "start_time": "2020-10-14T11:55:09.644258Z"
    }
   },
   "outputs": [
    {
     "name": "stderr",
     "output_type": "stream",
     "text": [
      "/var/folders/y0/r_kqsy4d1fz_4h1vc5fphx6r0000gn/T/ipykernel_21933/221013238.py:3: SettingWithCopyWarning: \n",
      "A value is trying to be set on a copy of a slice from a DataFrame.\n",
      "Try using .loc[row_indexer,col_indexer] = value instead\n",
      "\n",
      "See the caveats in the documentation: https://pandas.pydata.org/pandas-docs/stable/user_guide/indexing.html#returning-a-view-versus-a-copy\n",
      "  business_tucson['key'] = business_tucson.iloc[:,0]\n"
     ]
    },
    {
     "name": "stdout",
     "output_type": "stream",
     "text": [
      "(181099, 11)\n"
     ]
    },
    {
     "data": {
      "text/html": [
       "<div>\n",
       "<style scoped>\n",
       "    .dataframe tbody tr th:only-of-type {\n",
       "        vertical-align: middle;\n",
       "    }\n",
       "\n",
       "    .dataframe tbody tr th {\n",
       "        vertical-align: top;\n",
       "    }\n",
       "\n",
       "    .dataframe thead th {\n",
       "        text-align: right;\n",
       "    }\n",
       "</style>\n",
       "<table border=\"1\" class=\"dataframe\">\n",
       "  <thead>\n",
       "    <tr style=\"text-align: right;\">\n",
       "      <th></th>\n",
       "      <th>business_id</th>\n",
       "      <th>user_id</th>\n",
       "      <th>stars</th>\n",
       "      <th>useful</th>\n",
       "      <th>funny</th>\n",
       "      <th>cool</th>\n",
       "      <th>text</th>\n",
       "      <th>date</th>\n",
       "      <th>year</th>\n",
       "      <th>month</th>\n",
       "      <th>time</th>\n",
       "    </tr>\n",
       "  </thead>\n",
       "  <tbody>\n",
       "    <tr>\n",
       "      <th>0</th>\n",
       "      <td>YjUWPpI6HXG530lwP-fb2A</td>\n",
       "      <td>8g_iMtfSiwikVnbP2etR0A</td>\n",
       "      <td>3.0</td>\n",
       "      <td>0</td>\n",
       "      <td>0</td>\n",
       "      <td>0</td>\n",
       "      <td>Family diner. Had the buffet. Eclectic assortm...</td>\n",
       "      <td>2014-02-05 20:30:30</td>\n",
       "      <td>2014</td>\n",
       "      <td>02</td>\n",
       "      <td>20:30:30</td>\n",
       "    </tr>\n",
       "    <tr>\n",
       "      <th>1</th>\n",
       "      <td>5Ce3lZksYVkCbrihqylVHQ</td>\n",
       "      <td>yZdAhQ_KmKuCZmbBy9YDQg</td>\n",
       "      <td>5.0</td>\n",
       "      <td>0</td>\n",
       "      <td>0</td>\n",
       "      <td>0</td>\n",
       "      <td>I just started going to Sushi Nara this month ...</td>\n",
       "      <td>2014-07-25 17:56:26</td>\n",
       "      <td>2014</td>\n",
       "      <td>07</td>\n",
       "      <td>17:56:26</td>\n",
       "    </tr>\n",
       "    <tr>\n",
       "      <th>2</th>\n",
       "      <td>7L1kXfwU5XM6f6Jxo_L7Yg</td>\n",
       "      <td>hToW2eoTAYlOcuNz7I73Cg</td>\n",
       "      <td>5.0</td>\n",
       "      <td>1</td>\n",
       "      <td>0</td>\n",
       "      <td>0</td>\n",
       "      <td>We've been coming here since I was a kid. The ...</td>\n",
       "      <td>2015-07-03 22:36:04</td>\n",
       "      <td>2015</td>\n",
       "      <td>07</td>\n",
       "      <td>22:36:04</td>\n",
       "    </tr>\n",
       "    <tr>\n",
       "      <th>3</th>\n",
       "      <td>WLiqfxv_GhFFA5sm878a2w</td>\n",
       "      <td>CysTz612pTix75Fye6-D4Q</td>\n",
       "      <td>5.0</td>\n",
       "      <td>0</td>\n",
       "      <td>1</td>\n",
       "      <td>1</td>\n",
       "      <td>Blew $80 on food for the family was worth it f...</td>\n",
       "      <td>2013-12-29 03:15:34</td>\n",
       "      <td>2013</td>\n",
       "      <td>12</td>\n",
       "      <td>03:15:34</td>\n",
       "    </tr>\n",
       "    <tr>\n",
       "      <th>4</th>\n",
       "      <td>3YERGr7UbpSpddqL0Eiu5g</td>\n",
       "      <td>7zJVt_Bl1h5hLjhxl2c1PQ</td>\n",
       "      <td>5.0</td>\n",
       "      <td>1</td>\n",
       "      <td>0</td>\n",
       "      <td>1</td>\n",
       "      <td>This is my favorite restaurant!  I always orde...</td>\n",
       "      <td>2017-12-16 00:18:10</td>\n",
       "      <td>2017</td>\n",
       "      <td>12</td>\n",
       "      <td>00:18:10</td>\n",
       "    </tr>\n",
       "  </tbody>\n",
       "</table>\n",
       "</div>"
      ],
      "text/plain": [
       "              business_id                 user_id  stars  useful  funny  cool  \\\n",
       "0  YjUWPpI6HXG530lwP-fb2A  8g_iMtfSiwikVnbP2etR0A    3.0       0      0     0   \n",
       "1  5Ce3lZksYVkCbrihqylVHQ  yZdAhQ_KmKuCZmbBy9YDQg    5.0       0      0     0   \n",
       "2  7L1kXfwU5XM6f6Jxo_L7Yg  hToW2eoTAYlOcuNz7I73Cg    5.0       1      0     0   \n",
       "3  WLiqfxv_GhFFA5sm878a2w  CysTz612pTix75Fye6-D4Q    5.0       0      1     1   \n",
       "4  3YERGr7UbpSpddqL0Eiu5g  7zJVt_Bl1h5hLjhxl2c1PQ    5.0       1      0     1   \n",
       "\n",
       "                                                text                 date  \\\n",
       "0  Family diner. Had the buffet. Eclectic assortm...  2014-02-05 20:30:30   \n",
       "1  I just started going to Sushi Nara this month ...  2014-07-25 17:56:26   \n",
       "2  We've been coming here since I was a kid. The ...  2015-07-03 22:36:04   \n",
       "3  Blew $80 on food for the family was worth it f...  2013-12-29 03:15:34   \n",
       "4  This is my favorite restaurant!  I always orde...  2017-12-16 00:18:10   \n",
       "\n",
       "   year month      time  \n",
       "0  2014    02  20:30:30  \n",
       "1  2014    07  17:56:26  \n",
       "2  2015    07  22:36:04  \n",
       "3  2013    12  03:15:34  \n",
       "4  2017    12  00:18:10  "
      ]
     },
     "execution_count": 39,
     "metadata": {},
     "output_type": "execute_result"
    }
   ],
   "source": [
    "# Filtering for Yelp Customer Reviews for our final Restaurant Business Dataset\n",
    "\n",
    "business_tucson['key'] = business_tucson.iloc[:,0]\n",
    "reviews_final = restaurant_reviews[restaurant_reviews['business_id'].isin(business_tucson['key'])]\n",
    "reviews_final = reviews_final.reset_index().iloc[:,1:]\n",
    "print(reviews_final.shape)\n",
    "reviews_final.head()"
   ]
  },
  {
   "cell_type": "markdown",
   "metadata": {},
   "source": [
    "We are now left with **181,099 rows of Yelp User Reviews Data** for our **1641 Restaurant Businesses** in `Tucson`."
   ]
  },
  {
   "cell_type": "code",
   "execution_count": 40,
   "metadata": {
    "ExecuteTime": {
     "end_time": "2020-10-14T11:55:44.636615Z",
     "start_time": "2020-10-14T11:55:35.691529Z"
    }
   },
   "outputs": [
    {
     "name": "stdout",
     "output_type": "stream",
     "text": [
      "(44178, 10)\n"
     ]
    },
    {
     "data": {
      "text/html": [
       "<div>\n",
       "<style scoped>\n",
       "    .dataframe tbody tr th:only-of-type {\n",
       "        vertical-align: middle;\n",
       "    }\n",
       "\n",
       "    .dataframe tbody tr th {\n",
       "        vertical-align: top;\n",
       "    }\n",
       "\n",
       "    .dataframe thead th {\n",
       "        text-align: right;\n",
       "    }\n",
       "</style>\n",
       "<table border=\"1\" class=\"dataframe\">\n",
       "  <thead>\n",
       "    <tr style=\"text-align: right;\">\n",
       "      <th></th>\n",
       "      <th>user_id</th>\n",
       "      <th>user_name</th>\n",
       "      <th>user_review_count</th>\n",
       "      <th>user_yelp_since</th>\n",
       "      <th>friends</th>\n",
       "      <th>useful_reviews</th>\n",
       "      <th>funny_reviews</th>\n",
       "      <th>cool_reviews</th>\n",
       "      <th>n_fans</th>\n",
       "      <th>average_stars</th>\n",
       "    </tr>\n",
       "  </thead>\n",
       "  <tbody>\n",
       "    <tr>\n",
       "      <th>0</th>\n",
       "      <td>x7YtLnBW2dUnrrpwaofVQQ</td>\n",
       "      <td>Ronskee</td>\n",
       "      <td>37</td>\n",
       "      <td>2010-05-06 00:40:56</td>\n",
       "      <td>EPBLDry-ObheloH-NuvbvQ, 0GHsxjCk-Ynzx4Ihj8tjPQ...</td>\n",
       "      <td>56</td>\n",
       "      <td>29</td>\n",
       "      <td>29</td>\n",
       "      <td>9</td>\n",
       "      <td>3.84</td>\n",
       "    </tr>\n",
       "    <tr>\n",
       "      <th>1</th>\n",
       "      <td>XLs_PhrJ7Qwn_RfgMM7Djw</td>\n",
       "      <td>Weili</td>\n",
       "      <td>90</td>\n",
       "      <td>2009-07-12 14:34:54</td>\n",
       "      <td>gTX68_Us2eI2KjY21aOQ7g, e4nHt3ErihX7II-MHXVM1w...</td>\n",
       "      <td>71</td>\n",
       "      <td>21</td>\n",
       "      <td>19</td>\n",
       "      <td>1</td>\n",
       "      <td>3.62</td>\n",
       "    </tr>\n",
       "    <tr>\n",
       "      <th>2</th>\n",
       "      <td>QJI9OSEn6ujRCtrX06vs1w</td>\n",
       "      <td>J</td>\n",
       "      <td>1982</td>\n",
       "      <td>2007-03-19 18:15:32</td>\n",
       "      <td>RyPeT_ICAtX8ah9dhDpEFw, W8r4aKPZFT3GPIQQDbqB6Q...</td>\n",
       "      <td>14004</td>\n",
       "      <td>6466</td>\n",
       "      <td>9879</td>\n",
       "      <td>316</td>\n",
       "      <td>3.61</td>\n",
       "    </tr>\n",
       "    <tr>\n",
       "      <th>3</th>\n",
       "      <td>KXZ8A8h7Q9ZJRU5TM9asjw</td>\n",
       "      <td>Joanne</td>\n",
       "      <td>102</td>\n",
       "      <td>2010-03-20 17:40:40</td>\n",
       "      <td>2N4UPgpSHFYJ1OZ0WcvTEQ, JgZ1-9Ii2wCzHE2ylZb6qQ...</td>\n",
       "      <td>150</td>\n",
       "      <td>42</td>\n",
       "      <td>30</td>\n",
       "      <td>7</td>\n",
       "      <td>3.54</td>\n",
       "    </tr>\n",
       "    <tr>\n",
       "      <th>4</th>\n",
       "      <td>uVtkixXCP7LXRpC1EedGpA</td>\n",
       "      <td>Paulina</td>\n",
       "      <td>77</td>\n",
       "      <td>2011-03-08 03:00:03</td>\n",
       "      <td>iPUviZxhOQoKkWjWdz4DUQ, N5dXuVZ2ofc1Oglk2NSVfA...</td>\n",
       "      <td>248</td>\n",
       "      <td>72</td>\n",
       "      <td>84</td>\n",
       "      <td>14</td>\n",
       "      <td>3.91</td>\n",
       "    </tr>\n",
       "  </tbody>\n",
       "</table>\n",
       "</div>"
      ],
      "text/plain": [
       "                  user_id user_name  user_review_count      user_yelp_since  \\\n",
       "0  x7YtLnBW2dUnrrpwaofVQQ   Ronskee                 37  2010-05-06 00:40:56   \n",
       "1  XLs_PhrJ7Qwn_RfgMM7Djw     Weili                 90  2009-07-12 14:34:54   \n",
       "2  QJI9OSEn6ujRCtrX06vs1w         J               1982  2007-03-19 18:15:32   \n",
       "3  KXZ8A8h7Q9ZJRU5TM9asjw    Joanne                102  2010-03-20 17:40:40   \n",
       "4  uVtkixXCP7LXRpC1EedGpA   Paulina                 77  2011-03-08 03:00:03   \n",
       "\n",
       "                                             friends  useful_reviews  \\\n",
       "0  EPBLDry-ObheloH-NuvbvQ, 0GHsxjCk-Ynzx4Ihj8tjPQ...              56   \n",
       "1  gTX68_Us2eI2KjY21aOQ7g, e4nHt3ErihX7II-MHXVM1w...              71   \n",
       "2  RyPeT_ICAtX8ah9dhDpEFw, W8r4aKPZFT3GPIQQDbqB6Q...           14004   \n",
       "3  2N4UPgpSHFYJ1OZ0WcvTEQ, JgZ1-9Ii2wCzHE2ylZb6qQ...             150   \n",
       "4  iPUviZxhOQoKkWjWdz4DUQ, N5dXuVZ2ofc1Oglk2NSVfA...             248   \n",
       "\n",
       "   funny_reviews  cool_reviews  n_fans  average_stars  \n",
       "0             29            29       9           3.84  \n",
       "1             21            19       1           3.62  \n",
       "2           6466          9879     316           3.61  \n",
       "3             42            30       7           3.54  \n",
       "4             72            84      14           3.91  "
      ]
     },
     "execution_count": 40,
     "metadata": {},
     "output_type": "execute_result"
    }
   ],
   "source": [
    "# Filtering for our final Yelp Users Dataset\n",
    "\n",
    "reviews_final['key'] = reviews_final.iloc[:,1]\n",
    "users_final = users_df[users_df['user_id'].isin(reviews_final['key'])]\n",
    "users_final = users_final.reset_index().iloc[:,1:]\n",
    "print(users_final.shape)\n",
    "users_final.head()"
   ]
  },
  {
   "cell_type": "markdown",
   "metadata": {},
   "source": [
    "We are now left with **44,178 unique active Yelp User Data** for our **181,099 rows of Yelp User Reviews Data** for our **1641 Restaurant Businesses** in `Tucson`."
   ]
  },
  {
   "cell_type": "markdown",
   "metadata": {},
   "source": [
    "### Saving Dataframes into CSV Files"
   ]
  },
  {
   "cell_type": "markdown",
   "metadata": {},
   "source": [
    "Having finalized my filtered datasets, I will be saving them into CSVs and will be using these files for subsequent Jupyter Notebooks in this repository."
   ]
  },
  {
   "cell_type": "code",
   "execution_count": 42,
   "metadata": {
    "ExecuteTime": {
     "end_time": "2020-10-14T11:55:45.089729Z",
     "start_time": "2020-10-14T11:55:44.650067Z"
    }
   },
   "outputs": [],
   "source": [
    "# Save business_final into csv file\n",
    "\n",
    "business_tucson.to_csv(\"/Users/a_appiagyei/Downloads/yelp_dataset/business_final.csv\")"
   ]
  },
  {
   "cell_type": "code",
   "execution_count": 43,
   "metadata": {
    "ExecuteTime": {
     "end_time": "2020-10-14T12:01:59.887770Z",
     "start_time": "2020-10-14T11:55:45.096540Z"
    }
   },
   "outputs": [],
   "source": [
    "# Save reviews_final into csv file\n",
    "\n",
    "reviews_final.to_csv(\"/Users/a_appiagyei/Downloads/yelp_dataset/reviews_final.csv\")"
   ]
  },
  {
   "cell_type": "code",
   "execution_count": 44,
   "metadata": {
    "ExecuteTime": {
     "end_time": "2020-10-14T12:02:15.938704Z",
     "start_time": "2020-10-14T12:01:59.954251Z"
    }
   },
   "outputs": [],
   "source": [
    "# Save users_final into csv file\n",
    "\n",
    "users_final.to_csv(\"/Users/a_appiagyei/Downloads/yelp_dataset/users_final.csv\")"
   ]
  },
  {
   "cell_type": "code",
   "execution_count": null,
   "metadata": {},
   "outputs": [],
   "source": []
  }
 ],
 "metadata": {
  "kernelspec": {
   "display_name": "Python 3 (ipykernel)",
   "language": "python",
   "name": "python3"
  },
  "language_info": {
   "codemirror_mode": {
    "name": "ipython",
    "version": 3
   },
   "file_extension": ".py",
   "mimetype": "text/x-python",
   "name": "python",
   "nbconvert_exporter": "python",
   "pygments_lexer": "ipython3",
   "version": "3.11.4"
  },
  "toc": {
   "base_numbering": 1,
   "nav_menu": {},
   "number_sections": true,
   "sideBar": true,
   "skip_h1_title": false,
   "title_cell": "Table of Contents",
   "title_sidebar": "Contents",
   "toc_cell": false,
   "toc_position": {},
   "toc_section_display": true,
   "toc_window_display": true
  }
 },
 "nbformat": 4,
 "nbformat_minor": 4
}
